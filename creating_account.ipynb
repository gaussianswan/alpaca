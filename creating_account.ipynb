{
 "cells": [
  {
   "cell_type": "code",
   "execution_count": 4,
   "metadata": {},
   "outputs": [],
   "source": [
    "import os\n",
    "import pandas as pd \n",
    "\n",
    "from alpaca.trading.client import TradingClient\n",
    "from alpaca.trading.requests import GetAssetsRequest, GetOrderByIdRequest\n",
    "from alpaca.trading.enums import OrderSide, TimeInForce, QueryOrderStatus\n",
    "from dotenv import load_dotenv\n",
    "\n",
    "class AlpacaTradingAccount: \n",
    "\n",
    "    def __init__(self, env_path: str = None, paper = True):\n",
    "        self.env_path = env_path\n",
    "        self.paper = paper\n",
    "        self.api_key, self.secret_key = self._load_environment()\n",
    "        self.client = TradingClient(api_key=self.api_key, secret_key=self.secret_key, paper = self.paper)\n",
    "\n",
    "    def _load_environment(self):\n",
    "        if self.env_path is not None: \n",
    "            load_dotenv(self.env_path) \n",
    "\n",
    "        else: \n",
    "            load_dotenv()\n",
    "\n",
    "        # Then we are going to get the API keys\n",
    "        if self.paper: \n",
    "            api_key = os.environ['ALPACA_PAPER_TRADING_KEY_ID']\n",
    "            secret_key = os.environ['ALPACA_PAPER_TRADING_SECRET_KEY']\n",
    "        else: \n",
    "            api_key = os.environ['ALPACA_LIVE_TRADING_KEY_ID']\n",
    "            secret_key = os.environ['ALPACA_LIVE_TRADING_SECRET_KEY']\n",
    "\n",
    "        return api_key, secret_key\n",
    "\n",
    "    def get_all_active_positions(self) -> pd.DataFrame:\n",
    "        positions = self.client.get_all_positions()\n",
    "        positions_list = [] \n",
    "        for position in positions: \n",
    "            position_dict = dict(position)\n",
    "            positions_list.append(dict(position))\n",
    "\n",
    "        positions_df = pd.DataFrame(positions_list)\n",
    "        as_numeric_columns = ['avg_entry_price', 'qty', 'market_value', 'cost_basis', 'unrealized_pl', 'unrealized_plpc', 'unrealized_intraday_pl', 'unrealized_intraday_plpc', 'current_price', 'lastday_price', 'change_today']\n",
    "        positions_df[as_numeric_columns] = positions_df[as_numeric_columns].astype(float).round(3)\n",
    "\n",
    "        return positions_df\n",
    "\n",
    "    def get_all_closed_positions(self):\n",
    "        pass\n",
    "\n",
    "    def get_all_active_orders(self):\n",
    "        pass"
   ]
  },
  {
   "cell_type": "code",
   "execution_count": 5,
   "metadata": {},
   "outputs": [],
   "source": [
    "paper_account = AlpacaTradingAccount()"
   ]
  },
  {
   "cell_type": "code",
   "execution_count": 9,
   "metadata": {},
   "outputs": [],
   "source": [
    "positions = paper_account.client.get_all_positions()"
   ]
  },
  {
   "cell_type": "code",
   "execution_count": 10,
   "metadata": {},
   "outputs": [],
   "source": [
    "import pandas as pd "
   ]
  },
  {
   "cell_type": "code",
   "execution_count": 14,
   "metadata": {},
   "outputs": [],
   "source": [
    "first_position = positions[0]"
   ]
  },
  {
   "cell_type": "markdown",
   "metadata": {},
   "source": [
    "How can we parse through the information in the position object\n",
    "\n",
    "We have\n",
    "* Asset class \n",
    "* asset id\n",
    "* average entry price \n",
    "* change today \n",
    "* cost_basis\n",
    "* exchange that this trades on \n",
    "* last price \n",
    "* market value of the positoin \n",
    "* quantity\n",
    "* side that we are on \n",
    "* symbol\n",
    "* unrealized pnl"
   ]
  },
  {
   "cell_type": "code",
   "execution_count": 27,
   "metadata": {},
   "outputs": [
    {
     "data": {
      "text/plain": [
       "'AssetClass.US_EQUITY'"
      ]
     },
     "execution_count": 27,
     "metadata": {},
     "output_type": "execute_result"
    }
   ],
   "source": [
    "str(first_position.asset_class)"
   ]
  },
  {
   "cell_type": "code",
   "execution_count": 30,
   "metadata": {},
   "outputs": [
    {
     "data": {
      "text/plain": [
       "UUID('b0b6dd9d-8b9b-48a9-ba46-b9d54906e415')"
      ]
     },
     "execution_count": 30,
     "metadata": {},
     "output_type": "execute_result"
    }
   ],
   "source": [
    "first_position.asset_id"
   ]
  },
  {
   "cell_type": "code",
   "execution_count": 31,
   "metadata": {},
   "outputs": [
    {
     "data": {
      "text/plain": [
       "'150.81'"
      ]
     },
     "execution_count": 31,
     "metadata": {},
     "output_type": "execute_result"
    }
   ],
   "source": [
    "first_position.avg_entry_price"
   ]
  },
  {
   "cell_type": "code",
   "execution_count": 33,
   "metadata": {},
   "outputs": [
    {
     "data": {
      "text/plain": [
       "{   'asset_class': <AssetClass.US_EQUITY: 'us_equity'>,\n",
       "    'asset_id': UUID('b0b6dd9d-8b9b-48a9-ba46-b9d54906e415'),\n",
       "    'avg_entry_price': '150.81',\n",
       "    'change_today': '-0.0095819387018442',\n",
       "    'cost_basis': '150.81',\n",
       "    'current_price': '150.91',\n",
       "    'exchange': <AssetExchange.NASDAQ: 'NASDAQ'>,\n",
       "    'lastday_price': '152.37',\n",
       "    'market_value': '150.91',\n",
       "    'qty': '1',\n",
       "    'side': <PositionSide.LONG: 'long'>,\n",
       "    'symbol': 'AAPL',\n",
       "    'unrealized_intraday_pl': '0.1',\n",
       "    'unrealized_intraday_plpc': '0.0006630860022545',\n",
       "    'unrealized_pl': '0.1',\n",
       "    'unrealized_plpc': '0.0006630860022545'}"
      ]
     },
     "execution_count": 33,
     "metadata": {},
     "output_type": "execute_result"
    }
   ],
   "source": [
    "first_position"
   ]
  },
  {
   "cell_type": "code",
   "execution_count": 38,
   "metadata": {},
   "outputs": [],
   "source": [
    "positions_list = [] \n",
    "for position in positions: \n",
    "    position_dict = dict(position)\n",
    "    positions_list.append(dict(position))"
   ]
  },
  {
   "cell_type": "code",
   "execution_count": 39,
   "metadata": {},
   "outputs": [],
   "source": [
    "positions_df = pd.DataFrame(positions_list)"
   ]
  },
  {
   "cell_type": "code",
   "execution_count": 44,
   "metadata": {},
   "outputs": [],
   "source": [
    "as_numeric_columns = ['avg_entry_price', 'qty', 'market_value', 'cost_basis', 'unrealized_pl', 'unrealized_plpc', 'unrealized_intraday_pl', 'unrealized_intraday_plpc', 'current_price', 'lastday_price', 'change_today']\n",
    "positions_df[as_numeric_columns] = positions_df[as_numeric_columns].astype(float).round(3)\n"
   ]
  },
  {
   "cell_type": "code",
   "execution_count": 46,
   "metadata": {},
   "outputs": [
    {
     "data": {
      "text/html": [
       "<div>\n",
       "<style scoped>\n",
       "    .dataframe tbody tr th:only-of-type {\n",
       "        vertical-align: middle;\n",
       "    }\n",
       "\n",
       "    .dataframe tbody tr th {\n",
       "        vertical-align: top;\n",
       "    }\n",
       "\n",
       "    .dataframe thead th {\n",
       "        text-align: right;\n",
       "    }\n",
       "</style>\n",
       "<table border=\"1\" class=\"dataframe\">\n",
       "  <thead>\n",
       "    <tr style=\"text-align: right;\">\n",
       "      <th></th>\n",
       "      <th>asset_id</th>\n",
       "      <th>symbol</th>\n",
       "      <th>exchange</th>\n",
       "      <th>asset_class</th>\n",
       "      <th>avg_entry_price</th>\n",
       "      <th>qty</th>\n",
       "      <th>side</th>\n",
       "      <th>market_value</th>\n",
       "      <th>cost_basis</th>\n",
       "      <th>unrealized_pl</th>\n",
       "      <th>unrealized_plpc</th>\n",
       "      <th>unrealized_intraday_pl</th>\n",
       "      <th>unrealized_intraday_plpc</th>\n",
       "      <th>current_price</th>\n",
       "      <th>lastday_price</th>\n",
       "      <th>change_today</th>\n",
       "    </tr>\n",
       "  </thead>\n",
       "  <tbody>\n",
       "    <tr>\n",
       "      <th>0</th>\n",
       "      <td>b0b6dd9d-8b9b-48a9-ba46-b9d54906e415</td>\n",
       "      <td>AAPL</td>\n",
       "      <td>AssetExchange.NASDAQ</td>\n",
       "      <td>AssetClass.US_EQUITY</td>\n",
       "      <td>150.81</td>\n",
       "      <td>1.00</td>\n",
       "      <td>PositionSide.LONG</td>\n",
       "      <td>150.91</td>\n",
       "      <td>150.81</td>\n",
       "      <td>0.10</td>\n",
       "      <td>0.001</td>\n",
       "      <td>0.10</td>\n",
       "      <td>0.001</td>\n",
       "      <td>150.91</td>\n",
       "      <td>152.37</td>\n",
       "      <td>-0.010</td>\n",
       "    </tr>\n",
       "    <tr>\n",
       "      <th>1</th>\n",
       "      <td>64bbff51-59d6-4b3c-9351-13ad85e3c752</td>\n",
       "      <td>BTCUSD</td>\n",
       "      <td>AssetExchange.FTXU</td>\n",
       "      <td>AssetClass.CRYPTO</td>\n",
       "      <td>19573.00</td>\n",
       "      <td>0.23</td>\n",
       "      <td>PositionSide.LONG</td>\n",
       "      <td>4554.23</td>\n",
       "      <td>4501.79</td>\n",
       "      <td>52.44</td>\n",
       "      <td>0.012</td>\n",
       "      <td>52.44</td>\n",
       "      <td>0.012</td>\n",
       "      <td>19801.00</td>\n",
       "      <td>19745.00</td>\n",
       "      <td>0.003</td>\n",
       "    </tr>\n",
       "    <tr>\n",
       "      <th>2</th>\n",
       "      <td>1f8bfbdf-083a-4ebe-ad36-eaf6b6f0cb9d</td>\n",
       "      <td>TLT</td>\n",
       "      <td>AssetExchange.NASDAQ</td>\n",
       "      <td>AssetClass.US_EQUITY</td>\n",
       "      <td>107.18</td>\n",
       "      <td>-100.00</td>\n",
       "      <td>PositionSide.SHORT</td>\n",
       "      <td>-10738.00</td>\n",
       "      <td>-10718.00</td>\n",
       "      <td>-20.00</td>\n",
       "      <td>-0.002</td>\n",
       "      <td>-20.00</td>\n",
       "      <td>-0.002</td>\n",
       "      <td>107.38</td>\n",
       "      <td>107.97</td>\n",
       "      <td>-0.005</td>\n",
       "    </tr>\n",
       "  </tbody>\n",
       "</table>\n",
       "</div>"
      ],
      "text/plain": [
       "                               asset_id  symbol              exchange  \\\n",
       "0  b0b6dd9d-8b9b-48a9-ba46-b9d54906e415    AAPL  AssetExchange.NASDAQ   \n",
       "1  64bbff51-59d6-4b3c-9351-13ad85e3c752  BTCUSD    AssetExchange.FTXU   \n",
       "2  1f8bfbdf-083a-4ebe-ad36-eaf6b6f0cb9d     TLT  AssetExchange.NASDAQ   \n",
       "\n",
       "            asset_class  avg_entry_price     qty                side  \\\n",
       "0  AssetClass.US_EQUITY           150.81    1.00   PositionSide.LONG   \n",
       "1     AssetClass.CRYPTO         19573.00    0.23   PositionSide.LONG   \n",
       "2  AssetClass.US_EQUITY           107.18 -100.00  PositionSide.SHORT   \n",
       "\n",
       "   market_value  cost_basis  unrealized_pl  unrealized_plpc  \\\n",
       "0        150.91      150.81           0.10            0.001   \n",
       "1       4554.23     4501.79          52.44            0.012   \n",
       "2     -10738.00   -10718.00         -20.00           -0.002   \n",
       "\n",
       "   unrealized_intraday_pl  unrealized_intraday_plpc  current_price  \\\n",
       "0                    0.10                     0.001         150.91   \n",
       "1                   52.44                     0.012       19801.00   \n",
       "2                  -20.00                    -0.002         107.38   \n",
       "\n",
       "   lastday_price  change_today  \n",
       "0         152.37        -0.010  \n",
       "1       19745.00         0.003  \n",
       "2         107.97        -0.005  "
      ]
     },
     "execution_count": 46,
     "metadata": {},
     "output_type": "execute_result"
    }
   ],
   "source": [
    "positions_df"
   ]
  },
  {
   "cell_type": "code",
   "execution_count": null,
   "metadata": {},
   "outputs": [],
   "source": []
  }
 ],
 "metadata": {
  "kernelspec": {
   "display_name": "Python 3.9.13 ('stonks')",
   "language": "python",
   "name": "python3"
  },
  "language_info": {
   "codemirror_mode": {
    "name": "ipython",
    "version": 3
   },
   "file_extension": ".py",
   "mimetype": "text/x-python",
   "name": "python",
   "nbconvert_exporter": "python",
   "pygments_lexer": "ipython3",
   "version": "3.9.13"
  },
  "orig_nbformat": 4,
  "vscode": {
   "interpreter": {
    "hash": "765fc2768b52b0fb7f29f4dd3ad83fea88a1669f139631a6056e52cdfd4fc226"
   }
  }
 },
 "nbformat": 4,
 "nbformat_minor": 2
}
