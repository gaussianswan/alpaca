{
 "cells": [
  {
   "cell_type": "code",
   "execution_count": 27,
   "metadata": {},
   "outputs": [],
   "source": [
    "from alpaca.trading.client import TradingClient\n",
    "from alpaca.trading.requests import GetAssetsRequest\n",
    "from alpaca.trading.enums import AssetClass\n",
    "from alpaca.trading.models import Asset\n",
    "\n",
    "import os\n",
    "import pandas as pd \n",
    "\n",
    "api_key = os.environ['ALPACA_PAPER_TRADING_API_KEY']\n",
    "secret_key = os.environ['ALPACA_PAPER_TRADING_SECRET_KEY']\n",
    "\n",
    "trading_client = TradingClient(api_key=api_key, secret_key = secret_key)"
   ]
  },
  {
   "cell_type": "code",
   "execution_count": 4,
   "metadata": {},
   "outputs": [],
   "source": [
    "search_equity_assets = GetAssetsRequest(asset_class = AssetClass.US_EQUITY)\n",
    "assets = trading_client.get_all_assets(search_equity_assets)"
   ]
  },
  {
   "cell_type": "markdown",
   "metadata": {},
   "source": [
    "I would like to turn this into a spreadsheet with this information. We want all assets that are\n",
    "* Easy to borrow -- this means that they are shortable \n",
    "* Marginable --- means that we can take leverage \n",
    "* Have a status of active\n",
    "* Tradable is True\n",
    "\n",
    "Then we are going to unpack this information and put into a dataframe"
   ]
  },
  {
   "cell_type": "code",
   "execution_count": 10,
   "metadata": {},
   "outputs": [],
   "source": [
    "first_asset = assets[0]"
   ]
  },
  {
   "cell_type": "code",
   "execution_count": 20,
   "metadata": {},
   "outputs": [],
   "source": [
    "def filter_asset(asset: Asset) -> bool: \n",
    "\n",
    "    if asset.tradable and asset.shortable and asset.easy_to_borrow and asset.marginable: \n",
    "        return True \n",
    "    else: \n",
    "        return False"
   ]
  },
  {
   "cell_type": "code",
   "execution_count": 17,
   "metadata": {},
   "outputs": [
    {
     "data": {
      "text/plain": [
       "alpaca.trading.models.Asset"
      ]
     },
     "execution_count": 17,
     "metadata": {},
     "output_type": "execute_result"
    }
   ],
   "source": [
    "type(first_asset)"
   ]
  },
  {
   "cell_type": "code",
   "execution_count": 24,
   "metadata": {},
   "outputs": [],
   "source": [
    "desired_assets = list(filter(filter_asset, assets))"
   ]
  },
  {
   "cell_type": "code",
   "execution_count": 30,
   "metadata": {},
   "outputs": [],
   "source": [
    "sample_asset = desired_assets[0]"
   ]
  },
  {
   "cell_type": "code",
   "execution_count": 47,
   "metadata": {},
   "outputs": [],
   "source": [
    "def unpack_asset(asset: Asset) -> list: \n",
    "    return [asset.symbol, asset.asset_class.name, asset.exchange.name, asset.fractionable, str(asset.id), asset.marginable, asset.name, asset.shortable, asset.status.name, asset.tradable]"
   ]
  },
  {
   "cell_type": "code",
   "execution_count": 48,
   "metadata": {},
   "outputs": [],
   "source": [
    "assets_unpacked = [] \n",
    "for asset in desired_assets: \n",
    "    assets_unpacked.append(unpack_asset(asset))"
   ]
  },
  {
   "cell_type": "code",
   "execution_count": 49,
   "metadata": {},
   "outputs": [],
   "source": [
    "assets_df = pd.DataFrame(assets_unpacked)\n",
    "assets_df.columns = ['SYMBOL', 'ASSET_CLASS', 'EXCHANGE', 'FRACTIONABLE', 'ID', 'MARGINABLE', 'NAME', 'SHORTABLE', 'STATUS', 'TRADABLE']"
   ]
  },
  {
   "cell_type": "code",
   "execution_count": 50,
   "metadata": {},
   "outputs": [],
   "source": [
    "\n",
    "assets_df.columns = ['SYMBOL', 'ASSET_CLASS', 'EXCHANGE', 'FRACTIONABLE', 'ID', 'MARGINABLE', 'NAME', 'SHORTABLE', 'STATUS', 'TRADABLE']"
   ]
  },
  {
   "cell_type": "code",
   "execution_count": 51,
   "metadata": {},
   "outputs": [
    {
     "data": {
      "text/html": [
       "<div>\n",
       "<style scoped>\n",
       "    .dataframe tbody tr th:only-of-type {\n",
       "        vertical-align: middle;\n",
       "    }\n",
       "\n",
       "    .dataframe tbody tr th {\n",
       "        vertical-align: top;\n",
       "    }\n",
       "\n",
       "    .dataframe thead th {\n",
       "        text-align: right;\n",
       "    }\n",
       "</style>\n",
       "<table border=\"1\" class=\"dataframe\">\n",
       "  <thead>\n",
       "    <tr style=\"text-align: right;\">\n",
       "      <th></th>\n",
       "      <th>SYMBOL</th>\n",
       "      <th>ASSET_CLASS</th>\n",
       "      <th>EXCHANGE</th>\n",
       "      <th>FRACTIONABLE</th>\n",
       "      <th>ID</th>\n",
       "      <th>MARGINABLE</th>\n",
       "      <th>NAME</th>\n",
       "      <th>SHORTABLE</th>\n",
       "      <th>STATUS</th>\n",
       "      <th>TRADABLE</th>\n",
       "    </tr>\n",
       "  </thead>\n",
       "  <tbody>\n",
       "    <tr>\n",
       "      <th>0</th>\n",
       "      <td>CAPE</td>\n",
       "      <td>US_EQUITY</td>\n",
       "      <td>ARCA</td>\n",
       "      <td>False</td>\n",
       "      <td>78fc486a-2998-4677-9a2c-519b46002523</td>\n",
       "      <td>True</td>\n",
       "      <td>DoubleLine Shiller CAPE U.S. Equities ETF</td>\n",
       "      <td>True</td>\n",
       "      <td>ACTIVE</td>\n",
       "      <td>True</td>\n",
       "    </tr>\n",
       "    <tr>\n",
       "      <th>1</th>\n",
       "      <td>CAPL</td>\n",
       "      <td>US_EQUITY</td>\n",
       "      <td>NYSE</td>\n",
       "      <td>False</td>\n",
       "      <td>264e6532-a1ee-456e-bfb8-e3f5f5be5d41</td>\n",
       "      <td>True</td>\n",
       "      <td>CrossAmerica Partners LP Common units represen...</td>\n",
       "      <td>True</td>\n",
       "      <td>ACTIVE</td>\n",
       "      <td>True</td>\n",
       "    </tr>\n",
       "    <tr>\n",
       "      <th>2</th>\n",
       "      <td>CAPR</td>\n",
       "      <td>US_EQUITY</td>\n",
       "      <td>NASDAQ</td>\n",
       "      <td>False</td>\n",
       "      <td>c1ba40e4-61d5-4940-9d7a-eba2f8ad9e38</td>\n",
       "      <td>True</td>\n",
       "      <td>Capricor Therapeutics, Inc. Common Stock</td>\n",
       "      <td>True</td>\n",
       "      <td>ACTIVE</td>\n",
       "      <td>True</td>\n",
       "    </tr>\n",
       "    <tr>\n",
       "      <th>3</th>\n",
       "      <td>CAR</td>\n",
       "      <td>US_EQUITY</td>\n",
       "      <td>NASDAQ</td>\n",
       "      <td>True</td>\n",
       "      <td>fde51067-f3b9-49cb-8e6d-b0219e212f46</td>\n",
       "      <td>True</td>\n",
       "      <td>Avis Budget Group, Inc. Common Stock</td>\n",
       "      <td>True</td>\n",
       "      <td>ACTIVE</td>\n",
       "      <td>True</td>\n",
       "    </tr>\n",
       "    <tr>\n",
       "      <th>4</th>\n",
       "      <td>CARE</td>\n",
       "      <td>US_EQUITY</td>\n",
       "      <td>NASDAQ</td>\n",
       "      <td>True</td>\n",
       "      <td>8649ee73-0adc-47dd-9cf1-23c7ff00717e</td>\n",
       "      <td>True</td>\n",
       "      <td>Carter Bankshares, Inc. Common Stock</td>\n",
       "      <td>True</td>\n",
       "      <td>ACTIVE</td>\n",
       "      <td>True</td>\n",
       "    </tr>\n",
       "    <tr>\n",
       "      <th>...</th>\n",
       "      <td>...</td>\n",
       "      <td>...</td>\n",
       "      <td>...</td>\n",
       "      <td>...</td>\n",
       "      <td>...</td>\n",
       "      <td>...</td>\n",
       "      <td>...</td>\n",
       "      <td>...</td>\n",
       "      <td>...</td>\n",
       "      <td>...</td>\n",
       "    </tr>\n",
       "    <tr>\n",
       "      <th>5111</th>\n",
       "      <td>TRGP</td>\n",
       "      <td>US_EQUITY</td>\n",
       "      <td>NYSE</td>\n",
       "      <td>True</td>\n",
       "      <td>f0f1e55c-fad1-4dcb-84d9-2d9f9e45d1f5</td>\n",
       "      <td>True</td>\n",
       "      <td>Targa Resources Corp.</td>\n",
       "      <td>True</td>\n",
       "      <td>ACTIVE</td>\n",
       "      <td>True</td>\n",
       "    </tr>\n",
       "    <tr>\n",
       "      <th>5112</th>\n",
       "      <td>TSN</td>\n",
       "      <td>US_EQUITY</td>\n",
       "      <td>NYSE</td>\n",
       "      <td>True</td>\n",
       "      <td>73caedb2-6646-4666-8891-88b9718bd235</td>\n",
       "      <td>True</td>\n",
       "      <td>Tyson Foods, Inc.</td>\n",
       "      <td>True</td>\n",
       "      <td>ACTIVE</td>\n",
       "      <td>True</td>\n",
       "    </tr>\n",
       "    <tr>\n",
       "      <th>5113</th>\n",
       "      <td>WMT</td>\n",
       "      <td>US_EQUITY</td>\n",
       "      <td>NYSE</td>\n",
       "      <td>True</td>\n",
       "      <td>3f3e0ff9-599f-4fec-8842-6bc53f5129a1</td>\n",
       "      <td>True</td>\n",
       "      <td>Walmart Inc.</td>\n",
       "      <td>True</td>\n",
       "      <td>ACTIVE</td>\n",
       "      <td>True</td>\n",
       "    </tr>\n",
       "    <tr>\n",
       "      <th>5114</th>\n",
       "      <td>ZTS</td>\n",
       "      <td>US_EQUITY</td>\n",
       "      <td>NYSE</td>\n",
       "      <td>True</td>\n",
       "      <td>5344140c-ca01-4435-8a4a-217d4496bd35</td>\n",
       "      <td>True</td>\n",
       "      <td>ZOETIS INC.</td>\n",
       "      <td>True</td>\n",
       "      <td>ACTIVE</td>\n",
       "      <td>True</td>\n",
       "    </tr>\n",
       "    <tr>\n",
       "      <th>5115</th>\n",
       "      <td>ZYXI</td>\n",
       "      <td>US_EQUITY</td>\n",
       "      <td>NASDAQ</td>\n",
       "      <td>True</td>\n",
       "      <td>52eed246-61b0-4e82-95a9-1d23906b752e</td>\n",
       "      <td>True</td>\n",
       "      <td>Zynex, Inc. Common Stock</td>\n",
       "      <td>True</td>\n",
       "      <td>ACTIVE</td>\n",
       "      <td>True</td>\n",
       "    </tr>\n",
       "  </tbody>\n",
       "</table>\n",
       "<p>5116 rows × 10 columns</p>\n",
       "</div>"
      ],
      "text/plain": [
       "     SYMBOL ASSET_CLASS EXCHANGE  FRACTIONABLE  \\\n",
       "0      CAPE   US_EQUITY     ARCA         False   \n",
       "1      CAPL   US_EQUITY     NYSE         False   \n",
       "2      CAPR   US_EQUITY   NASDAQ         False   \n",
       "3       CAR   US_EQUITY   NASDAQ          True   \n",
       "4      CARE   US_EQUITY   NASDAQ          True   \n",
       "...     ...         ...      ...           ...   \n",
       "5111   TRGP   US_EQUITY     NYSE          True   \n",
       "5112    TSN   US_EQUITY     NYSE          True   \n",
       "5113    WMT   US_EQUITY     NYSE          True   \n",
       "5114    ZTS   US_EQUITY     NYSE          True   \n",
       "5115   ZYXI   US_EQUITY   NASDAQ          True   \n",
       "\n",
       "                                        ID  MARGINABLE  \\\n",
       "0     78fc486a-2998-4677-9a2c-519b46002523        True   \n",
       "1     264e6532-a1ee-456e-bfb8-e3f5f5be5d41        True   \n",
       "2     c1ba40e4-61d5-4940-9d7a-eba2f8ad9e38        True   \n",
       "3     fde51067-f3b9-49cb-8e6d-b0219e212f46        True   \n",
       "4     8649ee73-0adc-47dd-9cf1-23c7ff00717e        True   \n",
       "...                                    ...         ...   \n",
       "5111  f0f1e55c-fad1-4dcb-84d9-2d9f9e45d1f5        True   \n",
       "5112  73caedb2-6646-4666-8891-88b9718bd235        True   \n",
       "5113  3f3e0ff9-599f-4fec-8842-6bc53f5129a1        True   \n",
       "5114  5344140c-ca01-4435-8a4a-217d4496bd35        True   \n",
       "5115  52eed246-61b0-4e82-95a9-1d23906b752e        True   \n",
       "\n",
       "                                                   NAME  SHORTABLE  STATUS  \\\n",
       "0             DoubleLine Shiller CAPE U.S. Equities ETF       True  ACTIVE   \n",
       "1     CrossAmerica Partners LP Common units represen...       True  ACTIVE   \n",
       "2              Capricor Therapeutics, Inc. Common Stock       True  ACTIVE   \n",
       "3                  Avis Budget Group, Inc. Common Stock       True  ACTIVE   \n",
       "4                  Carter Bankshares, Inc. Common Stock       True  ACTIVE   \n",
       "...                                                 ...        ...     ...   \n",
       "5111                              Targa Resources Corp.       True  ACTIVE   \n",
       "5112                                  Tyson Foods, Inc.       True  ACTIVE   \n",
       "5113                                       Walmart Inc.       True  ACTIVE   \n",
       "5114                                        ZOETIS INC.       True  ACTIVE   \n",
       "5115                           Zynex, Inc. Common Stock       True  ACTIVE   \n",
       "\n",
       "      TRADABLE  \n",
       "0         True  \n",
       "1         True  \n",
       "2         True  \n",
       "3         True  \n",
       "4         True  \n",
       "...        ...  \n",
       "5111      True  \n",
       "5112      True  \n",
       "5113      True  \n",
       "5114      True  \n",
       "5115      True  \n",
       "\n",
       "[5116 rows x 10 columns]"
      ]
     },
     "execution_count": 51,
     "metadata": {},
     "output_type": "execute_result"
    }
   ],
   "source": [
    "assets_df"
   ]
  },
  {
   "cell_type": "code",
   "execution_count": 53,
   "metadata": {},
   "outputs": [
    {
     "ename": "OSError",
     "evalue": "Cannot save file into a non-existent directory: 'data'",
     "output_type": "error",
     "traceback": [
      "\u001b[1;31m---------------------------------------------------------------------------\u001b[0m",
      "\u001b[1;31mOSError\u001b[0m                                   Traceback (most recent call last)",
      "\u001b[1;32mc:\\Users\\srerr\\Documents\\Projects\\PersonalProjects\\stonks\\alpaca\\examples\\getting_markets.ipynb Cell 14\u001b[0m in \u001b[0;36m<cell line: 1>\u001b[1;34m()\u001b[0m\n\u001b[1;32m----> <a href='vscode-notebook-cell:/c%3A/Users/srerr/Documents/Projects/PersonalProjects/stonks/alpaca/examples/getting_markets.ipynb#X21sZmlsZQ%3D%3D?line=0'>1</a>\u001b[0m assets_df\u001b[39m.\u001b[39;49mto_csv(\u001b[39m\"\u001b[39;49m\u001b[39mdata/alpaca_equity_markets.csv\u001b[39;49m\u001b[39m\"\u001b[39;49m)\n",
      "File \u001b[1;32mc:\\Users\\srerr\\.conda\\envs\\stonks\\lib\\site-packages\\pandas\\core\\generic.py:3551\u001b[0m, in \u001b[0;36mNDFrame.to_csv\u001b[1;34m(self, path_or_buf, sep, na_rep, float_format, columns, header, index, index_label, mode, encoding, compression, quoting, quotechar, line_terminator, chunksize, date_format, doublequote, escapechar, decimal, errors, storage_options)\u001b[0m\n\u001b[0;32m   3540\u001b[0m df \u001b[39m=\u001b[39m \u001b[39mself\u001b[39m \u001b[39mif\u001b[39;00m \u001b[39misinstance\u001b[39m(\u001b[39mself\u001b[39m, ABCDataFrame) \u001b[39melse\u001b[39;00m \u001b[39mself\u001b[39m\u001b[39m.\u001b[39mto_frame()\n\u001b[0;32m   3542\u001b[0m formatter \u001b[39m=\u001b[39m DataFrameFormatter(\n\u001b[0;32m   3543\u001b[0m     frame\u001b[39m=\u001b[39mdf,\n\u001b[0;32m   3544\u001b[0m     header\u001b[39m=\u001b[39mheader,\n\u001b[1;32m   (...)\u001b[0m\n\u001b[0;32m   3548\u001b[0m     decimal\u001b[39m=\u001b[39mdecimal,\n\u001b[0;32m   3549\u001b[0m )\n\u001b[1;32m-> 3551\u001b[0m \u001b[39mreturn\u001b[39;00m DataFrameRenderer(formatter)\u001b[39m.\u001b[39;49mto_csv(\n\u001b[0;32m   3552\u001b[0m     path_or_buf,\n\u001b[0;32m   3553\u001b[0m     line_terminator\u001b[39m=\u001b[39;49mline_terminator,\n\u001b[0;32m   3554\u001b[0m     sep\u001b[39m=\u001b[39;49msep,\n\u001b[0;32m   3555\u001b[0m     encoding\u001b[39m=\u001b[39;49mencoding,\n\u001b[0;32m   3556\u001b[0m     errors\u001b[39m=\u001b[39;49merrors,\n\u001b[0;32m   3557\u001b[0m     compression\u001b[39m=\u001b[39;49mcompression,\n\u001b[0;32m   3558\u001b[0m     quoting\u001b[39m=\u001b[39;49mquoting,\n\u001b[0;32m   3559\u001b[0m     columns\u001b[39m=\u001b[39;49mcolumns,\n\u001b[0;32m   3560\u001b[0m     index_label\u001b[39m=\u001b[39;49mindex_label,\n\u001b[0;32m   3561\u001b[0m     mode\u001b[39m=\u001b[39;49mmode,\n\u001b[0;32m   3562\u001b[0m     chunksize\u001b[39m=\u001b[39;49mchunksize,\n\u001b[0;32m   3563\u001b[0m     quotechar\u001b[39m=\u001b[39;49mquotechar,\n\u001b[0;32m   3564\u001b[0m     date_format\u001b[39m=\u001b[39;49mdate_format,\n\u001b[0;32m   3565\u001b[0m     doublequote\u001b[39m=\u001b[39;49mdoublequote,\n\u001b[0;32m   3566\u001b[0m     escapechar\u001b[39m=\u001b[39;49mescapechar,\n\u001b[0;32m   3567\u001b[0m     storage_options\u001b[39m=\u001b[39;49mstorage_options,\n\u001b[0;32m   3568\u001b[0m )\n",
      "File \u001b[1;32mc:\\Users\\srerr\\.conda\\envs\\stonks\\lib\\site-packages\\pandas\\io\\formats\\format.py:1180\u001b[0m, in \u001b[0;36mDataFrameRenderer.to_csv\u001b[1;34m(self, path_or_buf, encoding, sep, columns, index_label, mode, compression, quoting, quotechar, line_terminator, chunksize, date_format, doublequote, escapechar, errors, storage_options)\u001b[0m\n\u001b[0;32m   1159\u001b[0m     created_buffer \u001b[39m=\u001b[39m \u001b[39mFalse\u001b[39;00m\n\u001b[0;32m   1161\u001b[0m csv_formatter \u001b[39m=\u001b[39m CSVFormatter(\n\u001b[0;32m   1162\u001b[0m     path_or_buf\u001b[39m=\u001b[39mpath_or_buf,\n\u001b[0;32m   1163\u001b[0m     line_terminator\u001b[39m=\u001b[39mline_terminator,\n\u001b[1;32m   (...)\u001b[0m\n\u001b[0;32m   1178\u001b[0m     formatter\u001b[39m=\u001b[39m\u001b[39mself\u001b[39m\u001b[39m.\u001b[39mfmt,\n\u001b[0;32m   1179\u001b[0m )\n\u001b[1;32m-> 1180\u001b[0m csv_formatter\u001b[39m.\u001b[39;49msave()\n\u001b[0;32m   1182\u001b[0m \u001b[39mif\u001b[39;00m created_buffer:\n\u001b[0;32m   1183\u001b[0m     \u001b[39massert\u001b[39;00m \u001b[39misinstance\u001b[39m(path_or_buf, StringIO)\n",
      "File \u001b[1;32mc:\\Users\\srerr\\.conda\\envs\\stonks\\lib\\site-packages\\pandas\\io\\formats\\csvs.py:241\u001b[0m, in \u001b[0;36mCSVFormatter.save\u001b[1;34m(self)\u001b[0m\n\u001b[0;32m    237\u001b[0m \u001b[39m\"\"\"\u001b[39;00m\n\u001b[0;32m    238\u001b[0m \u001b[39mCreate the writer & save.\u001b[39;00m\n\u001b[0;32m    239\u001b[0m \u001b[39m\"\"\"\u001b[39;00m\n\u001b[0;32m    240\u001b[0m \u001b[39m# apply compression and byte/text conversion\u001b[39;00m\n\u001b[1;32m--> 241\u001b[0m \u001b[39mwith\u001b[39;00m get_handle(\n\u001b[0;32m    242\u001b[0m     \u001b[39mself\u001b[39;49m\u001b[39m.\u001b[39;49mfilepath_or_buffer,\n\u001b[0;32m    243\u001b[0m     \u001b[39mself\u001b[39;49m\u001b[39m.\u001b[39;49mmode,\n\u001b[0;32m    244\u001b[0m     encoding\u001b[39m=\u001b[39;49m\u001b[39mself\u001b[39;49m\u001b[39m.\u001b[39;49mencoding,\n\u001b[0;32m    245\u001b[0m     errors\u001b[39m=\u001b[39;49m\u001b[39mself\u001b[39;49m\u001b[39m.\u001b[39;49merrors,\n\u001b[0;32m    246\u001b[0m     compression\u001b[39m=\u001b[39;49m\u001b[39mself\u001b[39;49m\u001b[39m.\u001b[39;49mcompression,\n\u001b[0;32m    247\u001b[0m     storage_options\u001b[39m=\u001b[39;49m\u001b[39mself\u001b[39;49m\u001b[39m.\u001b[39;49mstorage_options,\n\u001b[0;32m    248\u001b[0m ) \u001b[39mas\u001b[39;00m handles:\n\u001b[0;32m    249\u001b[0m \n\u001b[0;32m    250\u001b[0m     \u001b[39m# Note: self.encoding is irrelevant here\u001b[39;00m\n\u001b[0;32m    251\u001b[0m     \u001b[39mself\u001b[39m\u001b[39m.\u001b[39mwriter \u001b[39m=\u001b[39m csvlib\u001b[39m.\u001b[39mwriter(\n\u001b[0;32m    252\u001b[0m         handles\u001b[39m.\u001b[39mhandle,\n\u001b[0;32m    253\u001b[0m         lineterminator\u001b[39m=\u001b[39m\u001b[39mself\u001b[39m\u001b[39m.\u001b[39mline_terminator,\n\u001b[1;32m   (...)\u001b[0m\n\u001b[0;32m    258\u001b[0m         quotechar\u001b[39m=\u001b[39m\u001b[39mself\u001b[39m\u001b[39m.\u001b[39mquotechar,\n\u001b[0;32m    259\u001b[0m     )\n\u001b[0;32m    261\u001b[0m     \u001b[39mself\u001b[39m\u001b[39m.\u001b[39m_save()\n",
      "File \u001b[1;32mc:\\Users\\srerr\\.conda\\envs\\stonks\\lib\\site-packages\\pandas\\io\\common.py:694\u001b[0m, in \u001b[0;36mget_handle\u001b[1;34m(path_or_buf, mode, encoding, compression, memory_map, is_text, errors, storage_options)\u001b[0m\n\u001b[0;32m    692\u001b[0m \u001b[39m# Only for write methods\u001b[39;00m\n\u001b[0;32m    693\u001b[0m \u001b[39mif\u001b[39;00m \u001b[39m\"\u001b[39m\u001b[39mr\u001b[39m\u001b[39m\"\u001b[39m \u001b[39mnot\u001b[39;00m \u001b[39min\u001b[39;00m mode \u001b[39mand\u001b[39;00m is_path:\n\u001b[1;32m--> 694\u001b[0m     check_parent_directory(\u001b[39mstr\u001b[39;49m(handle))\n\u001b[0;32m    696\u001b[0m \u001b[39mif\u001b[39;00m compression:\n\u001b[0;32m    697\u001b[0m     \u001b[39mif\u001b[39;00m compression \u001b[39m!=\u001b[39m \u001b[39m\"\u001b[39m\u001b[39mzstd\u001b[39m\u001b[39m\"\u001b[39m:\n\u001b[0;32m    698\u001b[0m         \u001b[39m# compression libraries do not like an explicit text-mode\u001b[39;00m\n",
      "File \u001b[1;32mc:\\Users\\srerr\\.conda\\envs\\stonks\\lib\\site-packages\\pandas\\io\\common.py:568\u001b[0m, in \u001b[0;36mcheck_parent_directory\u001b[1;34m(path)\u001b[0m\n\u001b[0;32m    566\u001b[0m parent \u001b[39m=\u001b[39m Path(path)\u001b[39m.\u001b[39mparent\n\u001b[0;32m    567\u001b[0m \u001b[39mif\u001b[39;00m \u001b[39mnot\u001b[39;00m parent\u001b[39m.\u001b[39mis_dir():\n\u001b[1;32m--> 568\u001b[0m     \u001b[39mraise\u001b[39;00m \u001b[39mOSError\u001b[39;00m(\u001b[39mrf\u001b[39m\u001b[39m\"\u001b[39m\u001b[39mCannot save file into a non-existent directory: \u001b[39m\u001b[39m'\u001b[39m\u001b[39m{\u001b[39;00mparent\u001b[39m}\u001b[39;00m\u001b[39m'\u001b[39m\u001b[39m\"\u001b[39m)\n",
      "\u001b[1;31mOSError\u001b[0m: Cannot save file into a non-existent directory: 'data'"
     ]
    }
   ],
   "source": [
    "assets_df.to_csv(\"alpaca_equity_markets.csv\")"
   ]
  },
  {
   "cell_type": "code",
   "execution_count": null,
   "metadata": {},
   "outputs": [],
   "source": []
  }
 ],
 "metadata": {
  "kernelspec": {
   "display_name": "Python 3.9.13 ('stonks')",
   "language": "python",
   "name": "python3"
  },
  "language_info": {
   "codemirror_mode": {
    "name": "ipython",
    "version": 3
   },
   "file_extension": ".py",
   "mimetype": "text/x-python",
   "name": "python",
   "nbconvert_exporter": "python",
   "pygments_lexer": "ipython3",
   "version": "3.9.13"
  },
  "orig_nbformat": 4,
  "vscode": {
   "interpreter": {
    "hash": "765fc2768b52b0fb7f29f4dd3ad83fea88a1669f139631a6056e52cdfd4fc226"
   }
  }
 },
 "nbformat": 4,
 "nbformat_minor": 2
}
