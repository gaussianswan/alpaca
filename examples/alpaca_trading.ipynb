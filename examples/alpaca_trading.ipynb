{
 "cells": [
  {
   "cell_type": "code",
   "execution_count": 26,
   "metadata": {},
   "outputs": [],
   "source": [
    "from alpaca.trading.client import TradingClient\n",
    "from alpaca.trading.requests import GetAssetsRequest\n",
    "from alpaca.trading.enums import AssetClass\n",
    "from alpaca.trading.requests import MarketOrderRequest, GetOrdersRequest, LimitOrderRequest\n",
    "from alpaca.trading.enums import OrderSide, TimeInForce, OrderStatus, QueryOrderStatus\n",
    "\n",
    "import os \n",
    "api_key = os.environ['ALPACA_PAPER_TRADING_KEY_ID']\n",
    "secret_key = os.environ['ALPACA_PAPER_TRADING_SECRET_KEY']\n",
    "\n",
    "trade_client = TradingClient(api_key=api_key, secret_key=secret_key, paper = True)"
   ]
  },
  {
   "cell_type": "code",
   "execution_count": 2,
   "metadata": {},
   "outputs": [],
   "source": [
    "account = trade_client.get_account()"
   ]
  },
  {
   "cell_type": "code",
   "execution_count": 6,
   "metadata": {},
   "outputs": [],
   "source": [
    "search_params = GetAssetsRequest(asset_class = AssetClass.US_EQUITY)"
   ]
  },
  {
   "cell_type": "code",
   "execution_count": 9,
   "metadata": {},
   "outputs": [],
   "source": [
    "# Way to get all the equity assets --- basically universe selection\n",
    "equity_assets = trade_client.get_all_assets(search_params)"
   ]
  },
  {
   "cell_type": "markdown",
   "metadata": {},
   "source": [
    "#### Creating a market order"
   ]
  },
  {
   "cell_type": "code",
   "execution_count": 13,
   "metadata": {},
   "outputs": [],
   "source": [
    "market_order_data = MarketOrderRequest(\n",
    "    symbol = 'SPY', \n",
    "    qty = 2, \n",
    "    side = OrderSide.BUY, \n",
    "    time_in_force = TimeInForce.DAY)\n",
    "\n",
    "# Then you place the market order here \n",
    "market_order = trade_client.submit_order(\n",
    "    order_data = market_order_data\n",
    ")"
   ]
  },
  {
   "cell_type": "code",
   "execution_count": 14,
   "metadata": {},
   "outputs": [
    {
     "data": {
      "text/plain": [
       "{   'asset_class': <AssetClass.US_EQUITY: 'us_equity'>,\n",
       "    'asset_id': UUID('b28f4066-5c6d-479b-a2af-85dc1a8f16fb'),\n",
       "    'canceled_at': None,\n",
       "    'client_order_id': '3baef18d-5ee4-40b5-adaa-2ef47d4f7304',\n",
       "    'created_at': datetime.datetime(2022, 9, 16, 18, 41, 34, 936398, tzinfo=datetime.timezone.utc),\n",
       "    'expired_at': None,\n",
       "    'extended_hours': False,\n",
       "    'failed_at': None,\n",
       "    'filled_at': None,\n",
       "    'filled_avg_price': None,\n",
       "    'filled_qty': '0',\n",
       "    'hwm': None,\n",
       "    'id': UUID('6dfc7f0a-6803-44b7-9bf9-30e305fc54c4'),\n",
       "    'legs': None,\n",
       "    'limit_price': None,\n",
       "    'notional': None,\n",
       "    'order_class': <OrderClass.SIMPLE: 'simple'>,\n",
       "    'order_type': <OrderType.MARKET: 'market'>,\n",
       "    'qty': '2',\n",
       "    'replaced_at': None,\n",
       "    'replaced_by': None,\n",
       "    'replaces': None,\n",
       "    'side': <OrderSide.BUY: 'buy'>,\n",
       "    'status': <OrderStatus.PENDING_NEW: 'pending_new'>,\n",
       "    'stop_price': None,\n",
       "    'submitted_at': datetime.datetime(2022, 9, 16, 18, 41, 34, 935545, tzinfo=datetime.timezone.utc),\n",
       "    'symbol': 'SPY',\n",
       "    'time_in_force': <TimeInForce.DAY: 'day'>,\n",
       "    'trail_percent': None,\n",
       "    'trail_price': None,\n",
       "    'type': <OrderType.MARKET: 'market'>,\n",
       "    'updated_at': datetime.datetime(2022, 9, 16, 18, 41, 34, 936460, tzinfo=datetime.timezone.utc)}"
      ]
     },
     "execution_count": 14,
     "metadata": {},
     "output_type": "execute_result"
    }
   ],
   "source": [
    "\n",
    "market_order"
   ]
  },
  {
   "cell_type": "markdown",
   "metadata": {},
   "source": [
    "#### Checking on all orders of a certain type\n"
   ]
  },
  {
   "cell_type": "code",
   "execution_count": 28,
   "metadata": {},
   "outputs": [],
   "source": [
    "request_params = GetOrdersRequest(status = QueryOrderStatus.CLOSED)\n",
    "\n",
    "# orders that satisfy params\n",
    "orders = trade_client.get_orders(filter=request_params)"
   ]
  },
  {
   "cell_type": "code",
   "execution_count": 29,
   "metadata": {},
   "outputs": [
    {
     "data": {
      "text/plain": [
       "[{   'asset_class': <AssetClass.US_EQUITY: 'us_equity'>,\n",
       "     'asset_id': UUID('b28f4066-5c6d-479b-a2af-85dc1a8f16fb'),\n",
       "     'canceled_at': None,\n",
       "     'client_order_id': '3baef18d-5ee4-40b5-adaa-2ef47d4f7304',\n",
       "     'created_at': datetime.datetime(2022, 9, 16, 18, 41, 34, 936398, tzinfo=datetime.timezone.utc),\n",
       "     'expired_at': None,\n",
       "     'extended_hours': False,\n",
       "     'failed_at': None,\n",
       "     'filled_at': datetime.datetime(2022, 9, 16, 18, 41, 35, 233157, tzinfo=datetime.timezone.utc),\n",
       "     'filled_avg_price': '383.76',\n",
       "     'filled_qty': '2',\n",
       "     'hwm': None,\n",
       "     'id': UUID('6dfc7f0a-6803-44b7-9bf9-30e305fc54c4'),\n",
       "     'legs': None,\n",
       "     'limit_price': None,\n",
       "     'notional': None,\n",
       "     'order_class': <OrderClass.SIMPLE: 'simple'>,\n",
       "     'order_type': <OrderType.MARKET: 'market'>,\n",
       "     'qty': '2',\n",
       "     'replaced_at': None,\n",
       "     'replaced_by': None,\n",
       "     'replaces': None,\n",
       "     'side': <OrderSide.BUY: 'buy'>,\n",
       "     'status': <OrderStatus.FILLED: 'filled'>,\n",
       "     'stop_price': None,\n",
       "     'submitted_at': datetime.datetime(2022, 9, 16, 18, 41, 34, 935546, tzinfo=datetime.timezone.utc),\n",
       "     'symbol': 'SPY',\n",
       "     'time_in_force': <TimeInForce.DAY: 'day'>,\n",
       "     'trail_percent': None,\n",
       "     'trail_price': None,\n",
       "     'type': <OrderType.MARKET: 'market'>,\n",
       "     'updated_at': datetime.datetime(2022, 9, 16, 18, 41, 35, 235987, tzinfo=datetime.timezone.utc)},\n",
       " {   'asset_class': <AssetClass.US_EQUITY: 'us_equity'>,\n",
       "     'asset_id': UUID('b0b6dd9d-8b9b-48a9-ba46-b9d54906e415'),\n",
       "     'canceled_at': None,\n",
       "     'client_order_id': '83e346d5-f059-42d9-acde-e3e2914fcc0c',\n",
       "     'created_at': datetime.datetime(2022, 9, 16, 17, 52, 30, 445957, tzinfo=datetime.timezone.utc),\n",
       "     'expired_at': None,\n",
       "     'extended_hours': False,\n",
       "     'failed_at': None,\n",
       "     'filled_at': datetime.datetime(2022, 9, 16, 17, 52, 30, 561247, tzinfo=datetime.timezone.utc),\n",
       "     'filled_avg_price': '149.28',\n",
       "     'filled_qty': '1',\n",
       "     'hwm': None,\n",
       "     'id': UUID('9a47a2e5-6ef8-41a8-89c5-3907fdebc474'),\n",
       "     'legs': None,\n",
       "     'limit_price': None,\n",
       "     'notional': None,\n",
       "     'order_class': <OrderClass.SIMPLE: 'simple'>,\n",
       "     'order_type': <OrderType.MARKET: 'market'>,\n",
       "     'qty': '1',\n",
       "     'replaced_at': None,\n",
       "     'replaced_by': None,\n",
       "     'replaces': None,\n",
       "     'side': <OrderSide.BUY: 'buy'>,\n",
       "     'status': <OrderStatus.FILLED: 'filled'>,\n",
       "     'stop_price': None,\n",
       "     'submitted_at': datetime.datetime(2022, 9, 16, 17, 52, 30, 445152, tzinfo=datetime.timezone.utc),\n",
       "     'symbol': 'AAPL',\n",
       "     'time_in_force': <TimeInForce.GTC: 'gtc'>,\n",
       "     'trail_percent': None,\n",
       "     'trail_price': None,\n",
       "     'type': <OrderType.MARKET: 'market'>,\n",
       "     'updated_at': datetime.datetime(2022, 9, 16, 17, 52, 30, 564126, tzinfo=datetime.timezone.utc)},\n",
       " {   'asset_class': <AssetClass.US_EQUITY: 'us_equity'>,\n",
       "     'asset_id': UUID('b28f4066-5c6d-479b-a2af-85dc1a8f16fb'),\n",
       "     'canceled_at': None,\n",
       "     'client_order_id': '8bdb2f1f-b4df-49a7-8f18-32e05590e2e0',\n",
       "     'created_at': datetime.datetime(2022, 9, 16, 15, 5, 25, 346616, tzinfo=datetime.timezone.utc),\n",
       "     'expired_at': None,\n",
       "     'extended_hours': False,\n",
       "     'failed_at': None,\n",
       "     'filled_at': datetime.datetime(2022, 9, 16, 15, 5, 25, 957636, tzinfo=datetime.timezone.utc),\n",
       "     'filled_avg_price': '383.87',\n",
       "     'filled_qty': '10',\n",
       "     'hwm': None,\n",
       "     'id': UUID('e1de8ecd-da4c-469c-992c-9135be647b19'),\n",
       "     'legs': None,\n",
       "     'limit_price': None,\n",
       "     'notional': None,\n",
       "     'order_class': <OrderClass.SIMPLE: 'simple'>,\n",
       "     'order_type': <OrderType.MARKET: 'market'>,\n",
       "     'qty': '10',\n",
       "     'replaced_at': None,\n",
       "     'replaced_by': None,\n",
       "     'replaces': None,\n",
       "     'side': <OrderSide.BUY: 'buy'>,\n",
       "     'status': <OrderStatus.FILLED: 'filled'>,\n",
       "     'stop_price': None,\n",
       "     'submitted_at': datetime.datetime(2022, 9, 16, 15, 5, 25, 345939, tzinfo=datetime.timezone.utc),\n",
       "     'symbol': 'SPY',\n",
       "     'time_in_force': <TimeInForce.DAY: 'day'>,\n",
       "     'trail_percent': None,\n",
       "     'trail_price': None,\n",
       "     'type': <OrderType.MARKET: 'market'>,\n",
       "     'updated_at': datetime.datetime(2022, 9, 16, 15, 5, 25, 959956, tzinfo=datetime.timezone.utc)}]"
      ]
     },
     "execution_count": 29,
     "metadata": {},
     "output_type": "execute_result"
    }
   ],
   "source": [
    "orders"
   ]
  },
  {
   "cell_type": "markdown",
   "metadata": {},
   "source": [
    "#### Getting all our positions"
   ]
  },
  {
   "cell_type": "code",
   "execution_count": 30,
   "metadata": {},
   "outputs": [],
   "source": [
    "positions = trade_client.get_all_positions()"
   ]
  },
  {
   "cell_type": "code",
   "execution_count": 45,
   "metadata": {},
   "outputs": [
    {
     "name": "stdout",
     "output_type": "stream",
     "text": [
      "AAPL: 1\n",
      "SPY: 12\n"
     ]
    }
   ],
   "source": [
    "for position in positions: \n",
    "    print(f'{position.symbol}: {position.qty}')"
   ]
  },
  {
   "cell_type": "code",
   "execution_count": 46,
   "metadata": {},
   "outputs": [
    {
     "data": {
      "text/plain": [
       "alpaca.trading.models.Position"
      ]
     },
     "execution_count": 46,
     "metadata": {},
     "output_type": "execute_result"
    }
   ],
   "source": [
    "type(position)"
   ]
  },
  {
   "cell_type": "code",
   "execution_count": null,
   "metadata": {},
   "outputs": [],
   "source": []
  }
 ],
 "metadata": {
  "kernelspec": {
   "display_name": "Python 3.9.13 ('stonks')",
   "language": "python",
   "name": "python3"
  },
  "language_info": {
   "codemirror_mode": {
    "name": "ipython",
    "version": 3
   },
   "file_extension": ".py",
   "mimetype": "text/x-python",
   "name": "python",
   "nbconvert_exporter": "python",
   "pygments_lexer": "ipython3",
   "version": "3.9.13"
  },
  "orig_nbformat": 4,
  "vscode": {
   "interpreter": {
    "hash": "765fc2768b52b0fb7f29f4dd3ad83fea88a1669f139631a6056e52cdfd4fc226"
   }
  }
 },
 "nbformat": 4,
 "nbformat_minor": 2
}
