{
 "cells": [
  {
   "cell_type": "code",
   "execution_count": 36,
   "metadata": {},
   "outputs": [],
   "source": [
    "from alpaca.data import CryptoHistoricalDataClient, StockHistoricalDataClient\n",
    "from alpaca.data.requests import StockLatestQuoteRequest, CryptoBarsRequest, StockBarsRequest\n",
    "from alpaca.data.timeframe import TimeFrame, TimeFrameUnit\n",
    "from alpaca.data import CryptoDataStream, StockDataStream\n",
    "from load_api_keys import load_alpaca_paper_trading_keys\n",
    "import datetime\n",
    "api_keys = load_alpaca_paper_trading_keys()\n",
    "\n",
    "crypto_client = CryptoHistoricalDataClient()\n",
    "stock_client = StockHistoricalDataClient(api_key=api_keys.api_key, secret_key = api_keys.secret_key)"
   ]
  },
  {
   "cell_type": "markdown",
   "metadata": {},
   "source": [
    "Making requests for multiple stocks and getting their quotes currently"
   ]
  },
  {
   "cell_type": "code",
   "execution_count": 4,
   "metadata": {},
   "outputs": [],
   "source": [
    "stocks = ['SPY', 'TLT']\n",
    "latest_quotes_request =  StockLatestQuoteRequest(symbol_or_symbols=stocks)\n",
    "quotes = stock_client.get_stock_latest_quote(latest_quotes_request)"
   ]
  },
  {
   "cell_type": "code",
   "execution_count": 6,
   "metadata": {},
   "outputs": [],
   "source": [
    "tlt_quote = quotes['TLT']"
   ]
  },
  {
   "cell_type": "code",
   "execution_count": 9,
   "metadata": {},
   "outputs": [
    {
     "data": {
      "text/plain": [
       "13.0"
      ]
     },
     "execution_count": 9,
     "metadata": {},
     "output_type": "execute_result"
    }
   ],
   "source": [
    "tlt_quote.bid_size"
   ]
  },
  {
   "cell_type": "code",
   "execution_count": 10,
   "metadata": {},
   "outputs": [
    {
     "data": {
      "text/plain": [
       "alpaca.data.models.quotes.Quote"
      ]
     },
     "execution_count": 10,
     "metadata": {},
     "output_type": "execute_result"
    }
   ],
   "source": [
    "type(tlt_quote)"
   ]
  },
  {
   "cell_type": "code",
   "execution_count": 11,
   "metadata": {},
   "outputs": [
    {
     "data": {
      "text/plain": [
       "{   'ask_exchange': 'V',\n",
       "    'ask_price': 98.54,\n",
       "    'ask_size': 13.0,\n",
       "    'bid_exchange': 'V',\n",
       "    'bid_price': 98.39,\n",
       "    'bid_size': 13.0,\n",
       "    'conditions': ['R'],\n",
       "    'symbol': 'TLT',\n",
       "    'tape': 'C',\n",
       "    'timestamp': datetime.datetime(2022, 10, 14, 20, 20, 0, 500605, tzinfo=datetime.timezone.utc)}"
      ]
     },
     "execution_count": 11,
     "metadata": {},
     "output_type": "execute_result"
    }
   ],
   "source": [
    "tlt_quote"
   ]
  },
  {
   "cell_type": "markdown",
   "metadata": {},
   "source": [
    "We get a quote object back which we can get information from. In this quote, we can get: \n",
    "* ask prices and sizes\n",
    "* bid prices and sizes\n",
    "* timestamp of the last quote\n"
   ]
  },
  {
   "cell_type": "markdown",
   "metadata": {},
   "source": [
    "#### Getting historical bars"
   ]
  },
  {
   "cell_type": "code",
   "execution_count": 15,
   "metadata": {},
   "outputs": [],
   "source": [
    "bars_request = StockBarsRequest(\n",
    "    symbol_or_symbols=stocks, \n",
    "    timeframe = TimeFrame.Day, \n",
    "    start = datetime.datetime(2022, 7, 1)\n",
    ")\n",
    "\n",
    "bars = stock_client.get_stock_bars(bars_request)"
   ]
  },
  {
   "cell_type": "code",
   "execution_count": 17,
   "metadata": {},
   "outputs": [
    {
     "data": {
      "text/plain": [
       "alpaca.data.models.bars.BarSet"
      ]
     },
     "execution_count": 17,
     "metadata": {},
     "output_type": "execute_result"
    }
   ],
   "source": [
    "type(bars)"
   ]
  },
  {
   "cell_type": "code",
   "execution_count": 25,
   "metadata": {},
   "outputs": [],
   "source": [
    "spy_bars = bars.df.loc[('SPY', slice(None))]"
   ]
  },
  {
   "cell_type": "code",
   "execution_count": 21,
   "metadata": {},
   "outputs": [
    {
     "data": {
      "text/plain": [
       "{   'close': 115.82,\n",
       "    'high': 117.59,\n",
       "    'low': 115.22,\n",
       "    'open': 115.93,\n",
       "    'symbol': 'TLT',\n",
       "    'timestamp': datetime.datetime(2022, 7, 1, 4, 0, tzinfo=datetime.timezone.utc),\n",
       "    'trade_count': 138117.0,\n",
       "    'volume': 21856202.0,\n",
       "    'vwap': 116.113939}"
      ]
     },
     "execution_count": 21,
     "metadata": {},
     "output_type": "execute_result"
    }
   ],
   "source": [
    "bars['TLT'][0]"
   ]
  },
  {
   "cell_type": "markdown",
   "metadata": {},
   "source": [
    "We get back a bars set object. The way to access a specific bar is to index the asset and then the number of the bar. The most recent bar is going to be at the end. There is also a dataframe representation as we see. We have a multi-index where the outermost index is the stock and the innermost index would be the timestamp which represents the close of business time. "
   ]
  },
  {
   "cell_type": "markdown",
   "metadata": {},
   "source": [
    "#### Real time market data"
   ]
  },
  {
   "cell_type": "code",
   "execution_count": 27,
   "metadata": {},
   "outputs": [],
   "source": [
    "crypto_stream = CryptoDataStream(api_key=api_keys.api_key, secret_key=api_keys.secret_key)"
   ]
  },
  {
   "cell_type": "code",
   "execution_count": 30,
   "metadata": {},
   "outputs": [],
   "source": [
    "async def quote_data_handler(data): \n",
    "\n",
    "    print(data)\n",
    "\n",
    "crypto_stream.subscribe_quotes(quote_data_handler, 'BTC/USD')\n",
    "# crypto_stream.run() Can't run this here now because of the event loop in the jupyter notebook"
   ]
  },
  {
   "cell_type": "markdown",
   "metadata": {},
   "source": [
    "When you run this, you are going to get a bunch of quote objects which have the bid and ask prices from the exchange. We can play with this as usual but for now, probably going to just use the historical data. \n"
   ]
  },
  {
   "cell_type": "code",
   "execution_count": 34,
   "metadata": {},
   "outputs": [],
   "source": [
    "hour_bars_request = StockBarsRequest(\n",
    "    symbol_or_symbols=stocks, \n",
    "    timeframe = TimeFrame.Hour, \n",
    "    start = datetime.datetime(2022, 7, 1)\n",
    ")\n",
    "\n",
    "hour_bars = stock_client.get_stock_bars(hour_bars_request)"
   ]
  },
  {
   "cell_type": "code",
   "execution_count": 38,
   "metadata": {},
   "outputs": [],
   "source": [
    "thirty_minute_timeframe = TimeFrame(amount = 30, unit = TimeFrameUnit.Minute)"
   ]
  },
  {
   "cell_type": "code",
   "execution_count": 39,
   "metadata": {},
   "outputs": [],
   "source": [
    "time_request = StockBarsRequest(\n",
    "    symbol_or_symbols='SPY', \n",
    "    timeframe=thirty_minute_timeframe, \n",
    "    start = datetime.datetime(2022, 7, 1)\n",
    ")\n",
    "\n",
    "thirty_minute_bars = stock_client.get_stock_bars(time_request)"
   ]
  },
  {
   "cell_type": "code",
   "execution_count": 40,
   "metadata": {},
   "outputs": [
    {
     "data": {
      "text/html": [
       "<div>\n",
       "<style scoped>\n",
       "    .dataframe tbody tr th:only-of-type {\n",
       "        vertical-align: middle;\n",
       "    }\n",
       "\n",
       "    .dataframe tbody tr th {\n",
       "        vertical-align: top;\n",
       "    }\n",
       "\n",
       "    .dataframe thead th {\n",
       "        text-align: right;\n",
       "    }\n",
       "</style>\n",
       "<table border=\"1\" class=\"dataframe\">\n",
       "  <thead>\n",
       "    <tr style=\"text-align: right;\">\n",
       "      <th></th>\n",
       "      <th></th>\n",
       "      <th>open</th>\n",
       "      <th>high</th>\n",
       "      <th>low</th>\n",
       "      <th>close</th>\n",
       "      <th>volume</th>\n",
       "      <th>trade_count</th>\n",
       "      <th>vwap</th>\n",
       "    </tr>\n",
       "    <tr>\n",
       "      <th>symbol</th>\n",
       "      <th>timestamp</th>\n",
       "      <th></th>\n",
       "      <th></th>\n",
       "      <th></th>\n",
       "      <th></th>\n",
       "      <th></th>\n",
       "      <th></th>\n",
       "      <th></th>\n",
       "    </tr>\n",
       "  </thead>\n",
       "  <tbody>\n",
       "    <tr>\n",
       "      <th rowspan=\"11\" valign=\"top\">SPY</th>\n",
       "      <th>2022-07-01 04:00:00+00:00</th>\n",
       "      <td>374.40</td>\n",
       "      <td>374.40</td>\n",
       "      <td>373.59</td>\n",
       "      <td>373.59</td>\n",
       "      <td>2124.0</td>\n",
       "      <td>14.0</td>\n",
       "      <td>373.989487</td>\n",
       "    </tr>\n",
       "    <tr>\n",
       "      <th>2022-07-01 04:30:00+00:00</th>\n",
       "      <td>373.80</td>\n",
       "      <td>374.18</td>\n",
       "      <td>373.80</td>\n",
       "      <td>374.00</td>\n",
       "      <td>840.0</td>\n",
       "      <td>5.0</td>\n",
       "      <td>373.902381</td>\n",
       "    </tr>\n",
       "    <tr>\n",
       "      <th>2022-07-01 05:00:00+00:00</th>\n",
       "      <td>373.85</td>\n",
       "      <td>373.85</td>\n",
       "      <td>373.85</td>\n",
       "      <td>373.85</td>\n",
       "      <td>452.0</td>\n",
       "      <td>2.0</td>\n",
       "      <td>373.850000</td>\n",
       "    </tr>\n",
       "    <tr>\n",
       "      <th>2022-07-01 05:30:00+00:00</th>\n",
       "      <td>374.30</td>\n",
       "      <td>374.30</td>\n",
       "      <td>374.30</td>\n",
       "      <td>374.30</td>\n",
       "      <td>100.0</td>\n",
       "      <td>1.0</td>\n",
       "      <td>374.300000</td>\n",
       "    </tr>\n",
       "    <tr>\n",
       "      <th>2022-07-01 07:00:00+00:00</th>\n",
       "      <td>373.50</td>\n",
       "      <td>373.50</td>\n",
       "      <td>373.50</td>\n",
       "      <td>373.50</td>\n",
       "      <td>158.0</td>\n",
       "      <td>8.0</td>\n",
       "      <td>373.511139</td>\n",
       "    </tr>\n",
       "    <tr>\n",
       "      <th>...</th>\n",
       "      <td>...</td>\n",
       "      <td>...</td>\n",
       "      <td>...</td>\n",
       "      <td>...</td>\n",
       "      <td>...</td>\n",
       "      <td>...</td>\n",
       "      <td>...</td>\n",
       "    </tr>\n",
       "    <tr>\n",
       "      <th>2022-10-14 21:30:00+00:00</th>\n",
       "      <td>357.22</td>\n",
       "      <td>357.50</td>\n",
       "      <td>357.20</td>\n",
       "      <td>357.20</td>\n",
       "      <td>27498.0</td>\n",
       "      <td>423.0</td>\n",
       "      <td>357.334160</td>\n",
       "    </tr>\n",
       "    <tr>\n",
       "      <th>2022-10-14 22:00:00+00:00</th>\n",
       "      <td>357.23</td>\n",
       "      <td>357.35</td>\n",
       "      <td>357.05</td>\n",
       "      <td>357.07</td>\n",
       "      <td>32190.0</td>\n",
       "      <td>559.0</td>\n",
       "      <td>357.241808</td>\n",
       "    </tr>\n",
       "    <tr>\n",
       "      <th>2022-10-14 22:30:00+00:00</th>\n",
       "      <td>357.05</td>\n",
       "      <td>357.63</td>\n",
       "      <td>356.97</td>\n",
       "      <td>356.97</td>\n",
       "      <td>18606.0</td>\n",
       "      <td>388.0</td>\n",
       "      <td>357.019851</td>\n",
       "    </tr>\n",
       "    <tr>\n",
       "      <th>2022-10-14 23:00:00+00:00</th>\n",
       "      <td>356.96</td>\n",
       "      <td>357.00</td>\n",
       "      <td>356.76</td>\n",
       "      <td>356.76</td>\n",
       "      <td>15210.0</td>\n",
       "      <td>449.0</td>\n",
       "      <td>356.881290</td>\n",
       "    </tr>\n",
       "    <tr>\n",
       "      <th>2022-10-14 23:30:00+00:00</th>\n",
       "      <td>356.85</td>\n",
       "      <td>356.89</td>\n",
       "      <td>356.50</td>\n",
       "      <td>356.60</td>\n",
       "      <td>61017.0</td>\n",
       "      <td>955.0</td>\n",
       "      <td>356.656834</td>\n",
       "    </tr>\n",
       "  </tbody>\n",
       "</table>\n",
       "<p>2710 rows × 7 columns</p>\n",
       "</div>"
      ],
      "text/plain": [
       "                                    open    high     low   close   volume  \\\n",
       "symbol timestamp                                                            \n",
       "SPY    2022-07-01 04:00:00+00:00  374.40  374.40  373.59  373.59   2124.0   \n",
       "       2022-07-01 04:30:00+00:00  373.80  374.18  373.80  374.00    840.0   \n",
       "       2022-07-01 05:00:00+00:00  373.85  373.85  373.85  373.85    452.0   \n",
       "       2022-07-01 05:30:00+00:00  374.30  374.30  374.30  374.30    100.0   \n",
       "       2022-07-01 07:00:00+00:00  373.50  373.50  373.50  373.50    158.0   \n",
       "...                                  ...     ...     ...     ...      ...   \n",
       "       2022-10-14 21:30:00+00:00  357.22  357.50  357.20  357.20  27498.0   \n",
       "       2022-10-14 22:00:00+00:00  357.23  357.35  357.05  357.07  32190.0   \n",
       "       2022-10-14 22:30:00+00:00  357.05  357.63  356.97  356.97  18606.0   \n",
       "       2022-10-14 23:00:00+00:00  356.96  357.00  356.76  356.76  15210.0   \n",
       "       2022-10-14 23:30:00+00:00  356.85  356.89  356.50  356.60  61017.0   \n",
       "\n",
       "                                  trade_count        vwap  \n",
       "symbol timestamp                                           \n",
       "SPY    2022-07-01 04:00:00+00:00         14.0  373.989487  \n",
       "       2022-07-01 04:30:00+00:00          5.0  373.902381  \n",
       "       2022-07-01 05:00:00+00:00          2.0  373.850000  \n",
       "       2022-07-01 05:30:00+00:00          1.0  374.300000  \n",
       "       2022-07-01 07:00:00+00:00          8.0  373.511139  \n",
       "...                                       ...         ...  \n",
       "       2022-10-14 21:30:00+00:00        423.0  357.334160  \n",
       "       2022-10-14 22:00:00+00:00        559.0  357.241808  \n",
       "       2022-10-14 22:30:00+00:00        388.0  357.019851  \n",
       "       2022-10-14 23:00:00+00:00        449.0  356.881290  \n",
       "       2022-10-14 23:30:00+00:00        955.0  356.656834  \n",
       "\n",
       "[2710 rows x 7 columns]"
      ]
     },
     "execution_count": 40,
     "metadata": {},
     "output_type": "execute_result"
    }
   ],
   "source": [
    "thirty_minute_bars.df"
   ]
  },
  {
   "cell_type": "code",
   "execution_count": null,
   "metadata": {},
   "outputs": [],
   "source": []
  }
 ],
 "metadata": {
  "kernelspec": {
   "display_name": "Python 3.9.13 ('stonks')",
   "language": "python",
   "name": "python3"
  },
  "language_info": {
   "codemirror_mode": {
    "name": "ipython",
    "version": 3
   },
   "file_extension": ".py",
   "mimetype": "text/x-python",
   "name": "python",
   "nbconvert_exporter": "python",
   "pygments_lexer": "ipython3",
   "version": "3.9.13"
  },
  "orig_nbformat": 4,
  "vscode": {
   "interpreter": {
    "hash": "765fc2768b52b0fb7f29f4dd3ad83fea88a1669f139631a6056e52cdfd4fc226"
   }
  }
 },
 "nbformat": 4,
 "nbformat_minor": 2
}
