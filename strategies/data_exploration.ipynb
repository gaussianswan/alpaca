{
 "cells": [
  {
   "cell_type": "markdown",
   "metadata": {},
   "source": [
    "Here, we are exploring the data going into my neural network trader\n"
   ]
  },
  {
   "cell_type": "code",
   "execution_count": 17,
   "metadata": {},
   "outputs": [],
   "source": [
    "from alpaca.data.historical import CryptoHistoricalDataClient\n",
    "from alpaca.data.requests import CryptoBarsRequest\n",
    "from alpaca.data.timeframe import TimeFrame\n",
    "from alpaca.trading.client import TradingClient\n",
    "from alpaca.trading.requests import MarketOrderRequest\n",
    "from alpaca.trading.enums import OrderSide, TimeInForce\n",
    "from dotenv import load_dotenv\n",
    "from sklearn.preprocessing import MinMaxScaler\n",
    "import numpy as np \n",
    "import pandas as pd \n",
    "import os\n",
    "import datetime"
   ]
  },
  {
   "cell_type": "code",
   "execution_count": 4,
   "metadata": {},
   "outputs": [],
   "source": [
    "dotenv_path = r'C:\\Users\\srerr\\Documents\\Projects\\PersonalProjects\\stonks\\alpaca\\.env'\n",
    "load_dotenv(dotenv_path = dotenv_path)\n",
    "api_key = os.environ['ALPACA_PAPER_TRADING_KEY_ID']\n",
    "secret_key = os.environ['ALPACA_PAPER_TRADING_SECRET_KEY']\n",
    "trading_client = TradingClient(api_key = api_key, secret_key=secret_key)"
   ]
  },
  {
   "cell_type": "code",
   "execution_count": 54,
   "metadata": {},
   "outputs": [],
   "source": [
    "crypto_historical_data_client = CryptoHistoricalDataClient()\n",
    "start_time = datetime.datetime.utcnow() - datetime.timedelta(minutes = 1000)\n",
    "bars_request = CryptoBarsRequest(\n",
    "    symbol_or_symbols='ETH/USD', \n",
    "    start = start_time, \n",
    "    timeframe=TimeFrame.Minute\n",
    ")\n",
    "\n",
    "df = crypto_historical_data_client.get_crypto_bars(bars_request).df\n",
    "df.drop_duplicates(inplace=True)"
   ]
  },
  {
   "cell_type": "code",
   "execution_count": 55,
   "metadata": {},
   "outputs": [],
   "source": [
    "close_prices = df['close'].values"
   ]
  },
  {
   "cell_type": "code",
   "execution_count": 56,
   "metadata": {},
   "outputs": [],
   "source": [
    "scaler = MinMaxScaler(feature_range=(-1, 1))\n",
    "scaled_data = scaler.fit_transform(X = close_prices.reshape(-1, 1))"
   ]
  },
  {
   "cell_type": "markdown",
   "metadata": {},
   "source": [
    "I want to understand the structure of the input data into this model"
   ]
  },
  {
   "cell_type": "code",
   "execution_count": 57,
   "metadata": {},
   "outputs": [],
   "source": [
    "def get_train_data(scaled_data: np.array, look_back: int = 100): \n",
    "    x, y = [], []\n",
    "    for i in range(look_back, len(scaled_data)):\n",
    "        x.append(scaled_data[i - look_back:i, :])\n",
    "        y.append(scaled_data[i, :])\n",
    "\n",
    "    return np.array(x), np.array(y)"
   ]
  },
  {
   "cell_type": "code",
   "execution_count": 58,
   "metadata": {},
   "outputs": [],
   "source": [
    "x_train, y_train = get_train_data(scaled_data)"
   ]
  },
  {
   "cell_type": "code",
   "execution_count": 59,
   "metadata": {},
   "outputs": [
    {
     "data": {
      "text/plain": [
       "(884, 100, 1)"
      ]
     },
     "execution_count": 59,
     "metadata": {},
     "output_type": "execute_result"
    }
   ],
   "source": [
    "x_train.shape"
   ]
  },
  {
   "cell_type": "code",
   "execution_count": 60,
   "metadata": {},
   "outputs": [
    {
     "data": {
      "text/plain": [
       "(884, 1)"
      ]
     },
     "execution_count": 60,
     "metadata": {},
     "output_type": "execute_result"
    }
   ],
   "source": [
    "y_train.shape"
   ]
  },
  {
   "cell_type": "code",
   "execution_count": 61,
   "metadata": {},
   "outputs": [
    {
     "data": {
      "text/plain": [
       "array([[-0.35951662],\n",
       "       [-0.3836858 ],\n",
       "       [-0.3776435 ],\n",
       "       [-0.37160121],\n",
       "       [-0.34138973],\n",
       "       [-0.34138973],\n",
       "       [-0.33534743],\n",
       "       [-0.33534743],\n",
       "       [-0.32326284],\n",
       "       [-0.28700906],\n",
       "       [-0.30513595],\n",
       "       [-0.31117825],\n",
       "       [-0.31117825],\n",
       "       [-0.29305136],\n",
       "       [-0.28700906],\n",
       "       [-0.29909366],\n",
       "       [-0.29305136],\n",
       "       [-0.25075529],\n",
       "       [-0.25679758],\n",
       "       [-0.25075529],\n",
       "       [-0.23867069],\n",
       "       [-0.25075529],\n",
       "       [-0.26283988],\n",
       "       [-0.28096677],\n",
       "       [-0.28096677],\n",
       "       [-0.32326284],\n",
       "       [-0.32326284],\n",
       "       [-0.34743202],\n",
       "       [-0.34743202],\n",
       "       [-0.34743202],\n",
       "       [-0.35951662],\n",
       "       [-0.35951662],\n",
       "       [-0.35951662],\n",
       "       [-0.35951662],\n",
       "       [-0.35951662],\n",
       "       [-0.35951662],\n",
       "       [-0.35951662],\n",
       "       [-0.35951662],\n",
       "       [-0.32326284],\n",
       "       [-0.32326284],\n",
       "       [-0.32326284],\n",
       "       [-0.32326284],\n",
       "       [-0.31722054],\n",
       "       [-0.31722054],\n",
       "       [-0.31722054],\n",
       "       [-0.31722054],\n",
       "       [-0.29909366],\n",
       "       [-0.29909366],\n",
       "       [-0.29909366],\n",
       "       [-0.26888218],\n",
       "       [-0.2326284 ],\n",
       "       [-0.2265861 ],\n",
       "       [-0.23867069],\n",
       "       [-0.25679758],\n",
       "       [-0.26888218],\n",
       "       [-0.27492447],\n",
       "       [-0.29305136],\n",
       "       [-0.34138973],\n",
       "       [-0.34138973],\n",
       "       [-0.37160121],\n",
       "       [-0.3836858 ],\n",
       "       [-0.34743202],\n",
       "       [-0.34743202],\n",
       "       [-0.35347432],\n",
       "       [-0.34743202],\n",
       "       [-0.34743202],\n",
       "       [-0.35951662],\n",
       "       [-0.36555891],\n",
       "       [-0.36555891],\n",
       "       [-0.36555891],\n",
       "       [-0.35347432],\n",
       "       [-0.34138973],\n",
       "       [-0.33534743],\n",
       "       [-0.33534743],\n",
       "       [-0.31722054],\n",
       "       [-0.32326284],\n",
       "       [-0.28700906],\n",
       "       [-0.32326284],\n",
       "       [-0.29909366],\n",
       "       [-0.29909366],\n",
       "       [-0.31117825],\n",
       "       [-0.30513595],\n",
       "       [-0.30513595],\n",
       "       [-0.30513595],\n",
       "       [-0.31117825],\n",
       "       [-0.30513595],\n",
       "       [-0.30513595],\n",
       "       [-0.30513595],\n",
       "       [-0.30513595],\n",
       "       [-0.30513595],\n",
       "       [-0.30513595],\n",
       "       [-0.28096677],\n",
       "       [-0.28096677],\n",
       "       [-0.28096677],\n",
       "       [-0.28096677],\n",
       "       [-0.28096677],\n",
       "       [-0.29305136],\n",
       "       [-0.30513595],\n",
       "       [-0.32930514],\n",
       "       [-0.34743202]])"
      ]
     },
     "execution_count": 61,
     "metadata": {},
     "output_type": "execute_result"
    }
   ],
   "source": [
    "x_train[0]"
   ]
  },
  {
   "cell_type": "code",
   "execution_count": 62,
   "metadata": {},
   "outputs": [
    {
     "data": {
      "text/plain": [
       "array([-0.35347432])"
      ]
     },
     "execution_count": 62,
     "metadata": {},
     "output_type": "execute_result"
    }
   ],
   "source": [
    "y_train[0]"
   ]
  },
  {
   "cell_type": "markdown",
   "metadata": {},
   "source": [
    "So the model is taking as inputs a time series of the historical 100-period prices and trying to predict the next price. We do this rolling each time. "
   ]
  },
  {
   "cell_type": "code",
   "execution_count": 64,
   "metadata": {},
   "outputs": [
    {
     "data": {
      "text/plain": [
       "100"
      ]
     },
     "execution_count": 64,
     "metadata": {},
     "output_type": "execute_result"
    }
   ],
   "source": [
    "x_train.shape[1]"
   ]
  },
  {
   "cell_type": "code",
   "execution_count": 65,
   "metadata": {},
   "outputs": [
    {
     "data": {
      "text/plain": [
       "1"
      ]
     },
     "execution_count": 65,
     "metadata": {},
     "output_type": "execute_result"
    }
   ],
   "source": [
    "x_train.shape[2]"
   ]
  },
  {
   "cell_type": "code",
   "execution_count": null,
   "metadata": {},
   "outputs": [],
   "source": []
  }
 ],
 "metadata": {
  "kernelspec": {
   "display_name": "Python 3.9.13 ('stonks')",
   "language": "python",
   "name": "python3"
  },
  "language_info": {
   "codemirror_mode": {
    "name": "ipython",
    "version": 3
   },
   "file_extension": ".py",
   "mimetype": "text/x-python",
   "name": "python",
   "nbconvert_exporter": "python",
   "pygments_lexer": "ipython3",
   "version": "3.9.13"
  },
  "orig_nbformat": 4,
  "vscode": {
   "interpreter": {
    "hash": "765fc2768b52b0fb7f29f4dd3ad83fea88a1669f139631a6056e52cdfd4fc226"
   }
  }
 },
 "nbformat": 4,
 "nbformat_minor": 2
}
