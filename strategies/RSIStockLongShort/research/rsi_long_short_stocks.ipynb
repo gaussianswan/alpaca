{
 "cells": [
  {
   "cell_type": "code",
   "execution_count": 3,
   "metadata": {},
   "outputs": [],
   "source": [
    "import pickle \n",
    "import os\n",
    "\n",
    "from rsi_long_short_stocks import StocksRSILongShortStrategy"
   ]
  },
  {
   "cell_type": "code",
   "execution_count": 4,
   "metadata": {},
   "outputs": [],
   "source": [
    "filepath = r'C:\\Users\\srerr\\Documents\\Projects\\PersonalProjects\\stonks\\alpaca\\strategies\\livestrats\\RSI_long_short_AAPL_rsi_high_70_rsi_low_30.pkl'\n",
    "\n",
    "with open(filepath, 'rb') as f: \n",
    "    strat = pickle.load(f)"
   ]
  },
  {
   "cell_type": "code",
   "execution_count": 6,
   "metadata": {},
   "outputs": [
    {
     "data": {
      "text/plain": [
       "AlpacaPaperTradingKeys(api_key='PKB7I12K4VKEKM7Q4SFJ', secret_key='izU5d03KOuiohYGr8MgzOwWjBFs8qlbsLXsfP9mN')"
      ]
     },
     "execution_count": 6,
     "metadata": {},
     "output_type": "execute_result"
    }
   ],
   "source": [
    "strat.alpaca_paper_trading_keys"
   ]
  },
  {
   "cell_type": "code",
   "execution_count": 8,
   "metadata": {},
   "outputs": [
    {
     "data": {
      "text/plain": [
       "TelegramBotKeys(bot_token='5599668733:AAFosQ38xC4NCkLxHODr1iuncTlm2LDJiTw', chat_id='1634990243')"
      ]
     },
     "execution_count": 8,
     "metadata": {},
     "output_type": "execute_result"
    }
   ],
   "source": [
    "strat.telegram_keys"
   ]
  },
  {
   "cell_type": "code",
   "execution_count": 10,
   "metadata": {},
   "outputs": [],
   "source": [
    "pos = strat._get_current_position()"
   ]
  },
  {
   "cell_type": "code",
   "execution_count": 11,
   "metadata": {},
   "outputs": [
    {
     "data": {
      "text/plain": [
       "{   'asset_class': <AssetClass.US_EQUITY: 'us_equity'>,\n",
       "    'asset_id': UUID('b0b6dd9d-8b9b-48a9-ba46-b9d54906e415'),\n",
       "    'avg_entry_price': '130.44',\n",
       "    'change_today': '-0.0141058698619748',\n",
       "    'cost_basis': '913.08',\n",
       "    'current_price': '130',\n",
       "    'exchange': <AssetExchange.NASDAQ: 'NASDAQ'>,\n",
       "    'lastday_price': '131.86',\n",
       "    'market_value': '910',\n",
       "    'qty': '7',\n",
       "    'side': <PositionSide.LONG: 'long'>,\n",
       "    'symbol': 'AAPL',\n",
       "    'unrealized_intraday_pl': '-3.08',\n",
       "    'unrealized_intraday_plpc': '-0.0033731984053971',\n",
       "    'unrealized_pl': '-3.08',\n",
       "    'unrealized_plpc': '-0.0033731984053971'}"
      ]
     },
     "execution_count": 11,
     "metadata": {},
     "output_type": "execute_result"
    }
   ],
   "source": [
    "import datetime\n",
    "\n",
    "elapsed_time = datetime.now()"
   ]
  },
  {
   "cell_type": "code",
   "execution_count": 15,
   "metadata": {},
   "outputs": [
    {
     "data": {
      "text/plain": [
       "datetime.datetime(2022, 12, 27, 17, 14, 59, 221387, tzinfo=datetime.timezone.utc)"
      ]
     },
     "execution_count": 15,
     "metadata": {},
     "output_type": "execute_result"
    }
   ],
   "source": [
    "strat.market_orders[-1].created_at"
   ]
  },
  {
   "cell_type": "code",
   "execution_count": 16,
   "metadata": {},
   "outputs": [],
   "source": [
    "import pandas as pd \n",
    "from datetime import datetime, timezone\n",
    "\n",
    "elapsed_time = pd.Timestamp(datetime.now(timezone.utc)) - pd.Timestamp(strat.market_orders[-1].created_at)"
   ]
  },
  {
   "cell_type": "code",
   "execution_count": 17,
   "metadata": {},
   "outputs": [
    {
     "data": {
      "text/plain": [
       "Timedelta('0 days 00:23:57.652647')"
      ]
     },
     "execution_count": 17,
     "metadata": {},
     "output_type": "execute_result"
    }
   ],
   "source": [
    "\n",
    "elapsed_time"
   ]
  },
  {
   "cell_type": "code",
   "execution_count": 18,
   "metadata": {},
   "outputs": [
    {
     "data": {
      "text/plain": [
       "30.38896033678636"
      ]
     },
     "execution_count": 18,
     "metadata": {},
     "output_type": "execute_result"
    }
   ],
   "source": [
    "strat._get_rsi()"
   ]
  },
  {
   "cell_type": "code",
   "execution_count": null,
   "metadata": {},
   "outputs": [],
   "source": []
  }
 ],
 "metadata": {
  "kernelspec": {
   "display_name": "stonks",
   "language": "python",
   "name": "python3"
  },
  "language_info": {
   "codemirror_mode": {
    "name": "ipython",
    "version": 3
   },
   "file_extension": ".py",
   "mimetype": "text/x-python",
   "name": "python",
   "nbconvert_exporter": "python",
   "pygments_lexer": "ipython3",
   "version": "3.9.13"
  },
  "orig_nbformat": 4,
  "vscode": {
   "interpreter": {
    "hash": "765fc2768b52b0fb7f29f4dd3ad83fea88a1669f139631a6056e52cdfd4fc226"
   }
  }
 },
 "nbformat": 4,
 "nbformat_minor": 2
}
