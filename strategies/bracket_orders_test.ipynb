{
 "cells": [
  {
   "cell_type": "code",
   "execution_count": null,
   "metadata": {},
   "outputs": [],
   "source": [
    "\n",
    "import pandas as pd\n",
    "import pandas_ta as ta\n",
    "\n",
    "from math import floor\n",
    "from datetime import datetime, timedelta, date, timezone\n",
    "from telegrambot import telegram_bot_keys, TelegramBot\n",
    "from alpaca.data.requests import StockBarsRequest, StockLatestBarRequest\n",
    "from alpaca.data.timeframe import TimeFrameUnit\n",
    "from alpaca.data.timeframe import TimeFrame\n",
    "from alpaca.trading.requests import MarketOrderRequest, GetCalendarRequest, TakeProfitRequest, StopLossRequest\n",
    "from alpaca.trading.enums import OrderSide, TimeInForce, OrderClass\n",
    "from alpaca.data.historical import StockHistoricalDataClient\n",
    "from alpaca.trading.client import TradingClient\n",
    "from alpaca.trading.models import Calendar, Position, Order, PositionSide\n",
    "from alpaca.common.exceptions import APIError\n",
    "from typing import List, Union\n",
    "\n",
    "symbol = 'TSLA'\n",
    "quantity = 1\n",
    "\n",
    "stop_price = 120\n",
    "take_profit_price = 135\n",
    "\n",
    "take_profit_request = TakeProfitRequest(\n",
    "    limit_price=take_profit_price, \n",
    "    side = OrderSide.SELL\n",
    ")\n",
    "\n",
    "stop_loss_request = StopLossRequest(\n",
    "    stop_price=stop_price, \n",
    "    side = OrderSide.SELL\n",
    ")\n",
    "\n",
    "# Setting up a market order where we have a stop market order and a stop limit order\n",
    "market_order = MarketOrderRequest(\n",
    "    symbol = symbol, \n",
    "    qty = quantity, \n",
    "    side = OrderSide.BUY, \n",
    "    time_in_force = TimeInForce.GTC, \n",
    "    take_profit = take_profit_request, \n",
    "    stop_loss= stop_loss_request, \n",
    "    order_class = OrderClass.BRACKET\n",
    "    \n",
    ")"
   ]
  }
 ],
 "metadata": {
  "kernelspec": {
   "display_name": "stonks",
   "language": "python",
   "name": "python3"
  },
  "language_info": {
   "name": "python",
   "version": "3.9.13 (main, Aug 25 2022, 23:51:50) [MSC v.1916 64 bit (AMD64)]"
  },
  "orig_nbformat": 4,
  "vscode": {
   "interpreter": {
    "hash": "765fc2768b52b0fb7f29f4dd3ad83fea88a1669f139631a6056e52cdfd4fc226"
   }
  }
 },
 "nbformat": 4,
 "nbformat_minor": 2
}
