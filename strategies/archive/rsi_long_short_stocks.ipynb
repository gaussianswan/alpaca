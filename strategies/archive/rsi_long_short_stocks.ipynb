{
 "cells": [
  {
   "attachments": {},
   "cell_type": "markdown",
   "metadata": {},
   "source": [
    "#### Here, we are developing our Stock Market Long/Short RSI strategy\n",
    "\n",
    "Specifications: \n",
    "* Trading on 2-minute candles on stocks which have high liquidity and are shortable \n",
    "* Going long when the RSI indicator reaches \"oversold\" conditions (RSI <= $r_s$) \n",
    "* Going short when the RSI indciator reaches \"overbought\" conditions (RSI >= $r_b$)\n",
    "\n",
    "The exit conditions are: \n",
    "* Stop loss -> sized to daily volatility based on EWM model of daily returns scaled down to intraday vol\n",
    "* Time horizon -> not holding position for longer than 1 hour\n",
    "* Take profit -> we take profit on the other side of the stop loss level"
   ]
  },
  {
   "cell_type": "code",
   "execution_count": 1,
   "metadata": {},
   "outputs": [],
   "source": [
    "import pandas as pd \n",
    "import numpy as np \n",
    "import pandas_ta as ta\n",
    "import matplotlib.pyplot as plt\n",
    "\n",
    "from datetime import datetime, timedelta, date\n",
    "from telegrambot import telegram_bot_keys, TelegramBot\n",
    "from alpaca.data.requests import StockBarsRequest\n",
    "from alpaca.data.timeframe import TimeFrameUnit\n",
    "from alpaca.data.timeframe import TimeFrame\n",
    "from alpaca.trading.requests import MarketOrderRequest, GetCalendarRequest\n",
    "from alpaca.trading.enums import OrderSide, TimeInForce\n",
    "from alpaca.data.historical import StockHistoricalDataClient\n",
    "from alpaca.trading.client import TradingClient\n",
    "from alpaca.trading.models import Calendar\n",
    "from typing import List, Union\n",
    "from utils import filter_trading_day, check_if_market_open, get_market_time\n",
    "from load_api_keys import alpaca_paper_trading_keys, load_alpaca_paper_trading_keys\n"
   ]
  },
  {
   "cell_type": "code",
   "execution_count": 3,
   "metadata": {},
   "outputs": [],
   "source": [
    "class StocksRSILongShortStrategy: \n",
    "\n",
    "    def __init__(self, symbol: str, timeframe: TimeFrame, rsi_overbought_level: int, rsi_oversold_level: int, stop_loss_sigma: float, take_profit_sigma: float, timeout: pd.Timedelta, telegram_keys: telegram_bot_keys, alpaca_paper_trading_keys: alpaca_paper_trading_keys) -> None:\n",
    "        self.symbol = symbol\n",
    "        self.timeframe = timeframe\n",
    "        self.rsi_overbought_level = rsi_overbought_level\n",
    "        self.rsi_oversold_level = rsi_oversold_level\n",
    "        self.stop_loss_sigma = stop_loss_sigma\n",
    "        self.take_profit_sigma = take_profit_sigma\n",
    "        self.timeout = timeout\n",
    "        self.telegram_keys = telegram_keys\n",
    "        self.alpaca_paper_trading_keys = alpaca_paper_trading_keys\n",
    "\n",
    "        self.telegram_bot = TelegramBot.from_telegram_keys(telegram_keys=self.telegram_keys)\n",
    "        self.trading_client = TradingClient(\n",
    "            api_key=self.alpaca_paper_trading_keys.api_key, \n",
    "            secret_key=self.alpaca_paper_trading_keys.secret_key\n",
    "        )\n",
    "\n",
    "        self.historical_data_client = StockHistoricalDataClient(\n",
    "            api_key=self.alpaca_paper_trading_keys.api_key, \n",
    "            secret_key=self.alpaca_paper_trading_keys.secret_key\n",
    "        )\n",
    "\n",
    "        self.current_position = None \n",
    "        self.last_trade_time: pd.Timestamp = None \n",
    "        self.trades = []\n",
    "        \n",
    "\n",
    "    def _get_historical_data(self) -> pd.DataFrame: \n",
    "        data_request = StockBarsRequest(\n",
    "            symbol_or_symbols=self.symbol, \n",
    "            start = datetime.now() - timedelta(days = 1), \n",
    "            end = datetime.now(), \n",
    "            timeframe = self.timeframe \n",
    "        )\n",
    "\n",
    "        data = self.historical_data_client.get_stock_bars(request_params=data_request)\n",
    "\n",
    "        return data.df.droplevel(level = 0)\n",
    "\n",
    "    def _get_rsi(self, column: str = 'close'): \n",
    "\n",
    "        historical_data = self._get_historical_data()\n",
    "        rsi_series = ta.rsi(close = historical_data[column]).dropna()\n",
    "\n",
    "        return rsi_series.iloc[-1]\n",
    "\n",
    "    "
   ]
  },
  {
   "attachments": {},
   "cell_type": "markdown",
   "metadata": {},
   "source": [
    "Going through the process of doing calculations and what not"
   ]
  },
  {
   "cell_type": "code",
   "execution_count": 4,
   "metadata": {},
   "outputs": [],
   "source": [
    "import os\n",
    "\n",
    "paper_trading_keys = load_alpaca_paper_trading_keys(dotenv_path=r'C:\\Users\\srerr\\Documents\\Projects\\PersonalProjects\\stonks\\alpaca\\.env')"
   ]
  },
  {
   "cell_type": "code",
   "execution_count": 5,
   "metadata": {},
   "outputs": [],
   "source": [
    "trading_client = TradingClient(api_key=paper_trading_keys.api_key, secret_key=paper_trading_keys.secret_key, paper=True)\n",
    "historical_data_client = StockHistoricalDataClient(api_key=paper_trading_keys.api_key, secret_key=paper_trading_keys.secret_key)"
   ]
  },
  {
   "cell_type": "code",
   "execution_count": 6,
   "metadata": {},
   "outputs": [],
   "source": [
    "timeframe = TimeFrame(\n",
    "    amount = 2, \n",
    "    unit = TimeFrameUnit.Minute\n",
    ")\n",
    "\n",
    "symbol = 'TSLA'\n",
    "\n",
    "data_request = StockBarsRequest(\n",
    "    symbol_or_symbols=symbol, \n",
    "    start = datetime.now() - timedelta(days = 1), \n",
    "    end = datetime.now(), \n",
    "    timeframe = timeframe \n",
    ")\n",
    "\n",
    "historical_data = historical_data_client.get_stock_bars(request_params=data_request)"
   ]
  },
  {
   "cell_type": "code",
   "execution_count": 7,
   "metadata": {},
   "outputs": [],
   "source": [
    "historical_data_df = historical_data.df.droplevel(level= 0)"
   ]
  },
  {
   "cell_type": "code",
   "execution_count": 8,
   "metadata": {},
   "outputs": [
    {
     "data": {
      "text/plain": [
       "timestamp\n",
       "2022-12-19 19:22:00+00:00    45.265138\n",
       "2022-12-19 19:24:00+00:00    45.882611\n",
       "2022-12-19 19:26:00+00:00    48.378199\n",
       "2022-12-19 19:28:00+00:00    34.082191\n",
       "2022-12-19 19:30:00+00:00    42.050763\n",
       "                               ...    \n",
       "2022-12-20 18:44:00+00:00    37.672388\n",
       "2022-12-20 18:46:00+00:00    36.834041\n",
       "2022-12-20 18:48:00+00:00    37.305056\n",
       "2022-12-20 18:50:00+00:00    40.571064\n",
       "2022-12-20 18:52:00+00:00    37.916067\n",
       "Name: RSI_14, Length: 457, dtype: float64"
      ]
     },
     "execution_count": 8,
     "metadata": {},
     "output_type": "execute_result"
    }
   ],
   "source": [
    "ta.rsi(close = historical_data_df['close']).dropna()"
   ]
  },
  {
   "cell_type": "code",
   "execution_count": 9,
   "metadata": {},
   "outputs": [],
   "source": [
    "calendar_request = GetCalendarRequest(\n",
    "    start = datetime.now() - timedelta(days = 10), \n",
    "    end = datetime.now()\n",
    ")\n",
    "\n",
    "days = trading_client.get_calendar(calendar_request)"
   ]
  },
  {
   "cell_type": "code",
   "execution_count": 10,
   "metadata": {},
   "outputs": [],
   "source": [
    "trading_day = days[0]"
   ]
  }
 ],
 "metadata": {
  "kernelspec": {
   "display_name": "stonks",
   "language": "python",
   "name": "python3"
  },
  "language_info": {
   "codemirror_mode": {
    "name": "ipython",
    "version": 3
   },
   "file_extension": ".py",
   "mimetype": "text/x-python",
   "name": "python",
   "nbconvert_exporter": "python",
   "pygments_lexer": "ipython3",
   "version": "3.9.13"
  },
  "orig_nbformat": 4,
  "vscode": {
   "interpreter": {
    "hash": "765fc2768b52b0fb7f29f4dd3ad83fea88a1669f139631a6056e52cdfd4fc226"
   }
  }
 },
 "nbformat": 4,
 "nbformat_minor": 2
}
