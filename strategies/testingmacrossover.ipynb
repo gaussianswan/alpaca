{
 "cells": [
  {
   "cell_type": "code",
   "execution_count": 1,
   "metadata": {},
   "outputs": [],
   "source": [
    "from crossover import CryptoMovingAverageCrossOverStrategy\n",
    "from dotenv import load_dotenv\n",
    "\n",
    "import pandas as pd\n",
    "import os\n"
   ]
  },
  {
   "cell_type": "code",
   "execution_count": 2,
   "metadata": {},
   "outputs": [],
   "source": [
    "load_dotenv(r'C:\\Users\\srerr\\Documents\\Projects\\PersonalProjects\\stonks\\alpaca\\.env')\n",
    "alpaca_key = os.environ['ALPACA_PAPER_TRADING_KEY_ID']\n",
    "alpaca_secret_key = os.environ['ALPACA_PAPER_TRADING_SECRET_KEY']\n"
   ]
  },
  {
   "cell_type": "code",
   "execution_count": 3,
   "metadata": {},
   "outputs": [],
   "source": [
    "strat = CryptoMovingAverageCrossOverStrategy(\n",
    "    symbol='BTC/USD', \n",
    "    short_period=10, \n",
    "    long_period=40, \n",
    "    alpaca_api_key=alpaca_key, \n",
    "    alpaca_secret_key=alpaca_secret_key, \n",
    "    capital = 2000)"
   ]
  },
  {
   "cell_type": "code",
   "execution_count": 4,
   "metadata": {},
   "outputs": [],
   "source": [
    "strat.run()"
   ]
  },
  {
   "cell_type": "code",
   "execution_count": 5,
   "metadata": {},
   "outputs": [],
   "source": [
    "strat.generate_signal()"
   ]
  },
  {
   "cell_type": "code",
   "execution_count": 10,
   "metadata": {},
   "outputs": [],
   "source": [
    "historical_bars = strat.get_historical_data()"
   ]
  },
  {
   "cell_type": "code",
   "execution_count": 11,
   "metadata": {},
   "outputs": [],
   "source": [
    "# Generating the moving averages\n",
    "long_period = 40\n",
    "short_period = 10\n",
    "\n",
    "long_sma_column_mame = f'{long_period}-day SMA'\n",
    "short_sma_column_name = f'{short_period}-day SMA'\n",
    "\n",
    "historical_bars[long_sma_column_mame] = historical_bars['close'].rolling(long_period).mean()\n",
    "historical_bars[short_sma_column_name] = historical_bars['close'].rolling(short_period).mean()\n",
    "\n",
    "# We want to check for a crossover, only then should we go short or long\n",
    "# 1. Shorter moving average crosses above the longer one\n",
    "# 2. Shorter moving average crosses below the longer one\n",
    "\n",
    "prev_short_moving_average = historical_bars[short_sma_column_name].iloc[-2]\n",
    "current_short_moving_average = historical_bars[short_sma_column_name].iloc[-1]\n",
    "\n",
    "prev_long_moving_average = historical_bars[long_sma_column_mame].iloc[-2]\n",
    "current_long_moving_average = historical_bars[long_sma_column_mame].iloc[-1]"
   ]
  },
  {
   "cell_type": "code",
   "execution_count": 12,
   "metadata": {},
   "outputs": [],
   "source": [
    "if (prev_short_moving_average > prev_long_moving_average) and (current_short_moving_average < current_long_moving_average):\n",
    "            ## We have a cross going down and we should go short\n",
    "\n",
    "    signal = \"SELL\"\n",
    "\n",
    "elif (prev_short_moving_average < prev_long_moving_average) and (current_short_moving_average > current_long_moving_average):\n",
    "\n",
    "    # We have a cross going up and we should go long\n",
    "    signal = \"BUY\"\n",
    "\n",
    "else: \n",
    "    \n",
    "    signal = \"NONE\""
   ]
  },
  {
   "cell_type": "code",
   "execution_count": 16,
   "metadata": {},
   "outputs": [
    {
     "data": {
      "text/plain": [
       "Index(['open', 'high', 'low', 'close', 'volume', 'trade_count', 'vwap',\n",
       "       '40-day SMA', '10-day SMA'],\n",
       "      dtype='object')"
      ]
     },
     "execution_count": 16,
     "metadata": {},
     "output_type": "execute_result"
    }
   ],
   "source": [
    "historical_bars.columns"
   ]
  },
  {
   "cell_type": "code",
   "execution_count": null,
   "metadata": {},
   "outputs": [],
   "source": []
  }
 ],
 "metadata": {
  "kernelspec": {
   "display_name": "Python 3.9.13 ('stonks')",
   "language": "python",
   "name": "python3"
  },
  "language_info": {
   "codemirror_mode": {
    "name": "ipython",
    "version": 3
   },
   "file_extension": ".py",
   "mimetype": "text/x-python",
   "name": "python",
   "nbconvert_exporter": "python",
   "pygments_lexer": "ipython3",
   "version": "3.9.13"
  },
  "orig_nbformat": 4,
  "vscode": {
   "interpreter": {
    "hash": "765fc2768b52b0fb7f29f4dd3ad83fea88a1669f139631a6056e52cdfd4fc226"
   }
  }
 },
 "nbformat": 4,
 "nbformat_minor": 2
}
